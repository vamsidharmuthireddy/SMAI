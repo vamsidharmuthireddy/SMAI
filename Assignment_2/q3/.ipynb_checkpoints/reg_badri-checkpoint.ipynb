{
 "cells": [
  {
   "cell_type": "code",
   "execution_count": 17,
   "metadata": {
    "collapsed": true
   },
   "outputs": [],
   "source": [
    "%matplotlib inline"
   ]
  },
  {
   "cell_type": "code",
   "execution_count": 18,
   "metadata": {
    "collapsed": true
   },
   "outputs": [],
   "source": [
    "from numpy import genfromtxt\n",
    "import numpy as np\n",
    "from random import randint\n",
    "import PIL.Image\n",
    "from cStringIO import StringIO\n",
    "import IPython.display"
   ]
  },
  {
   "cell_type": "code",
   "execution_count": 19,
   "metadata": {
    "collapsed": true
   },
   "outputs": [],
   "source": [
    "X_train = genfromtxt('notMNIST_train_data.csv', delimiter=',')\n",
    "y_train = genfromtxt('notMNIST_train_labels.csv', delimiter=',')\n",
    "X_test = genfromtxt('notMNIST_test_data.csv', delimiter=',')\n",
    "y_test = genfromtxt('notMNIST_test_labels.csv', delimiter=',')"
   ]
  },
  {
   "cell_type": "code",
   "execution_count": 20,
   "metadata": {
    "collapsed": true
   },
   "outputs": [],
   "source": [
    "def showarray(a, fmt='png'):\n",
    "    a = np.uint8(a)\n",
    "    f = StringIO()\n",
    "    PIL.Image.fromarray(a).save(f, fmt)\n",
    "    IPython.display.display(IPython.display.Image(data=f.getvalue()))"
   ]
  },
  {
   "cell_type": "code",
   "execution_count": 21,
   "metadata": {},
   "outputs": [
    {
     "name": "stdout",
     "output_type": "stream",
     "text": [
      "0.0\n"
     ]
    },
    {
     "data": {
      "image/png": "[encoded data removed]",
      "text/plain": [
       "<IPython.core.display.Image object>"
      ]
     },
     "metadata": {},
     "output_type": "display_data"
    }
   ],
   "source": [
    "n = randint(1, 1000)\n",
    "label = y_test[n]\n",
    "im = X_test[n, :].reshape((28, 28))\n",
    "print(label)\n",
    "showarray(im)"
   ]
  },
  {
   "cell_type": "code",
   "execution_count": 22,
   "metadata": {},
   "outputs": [
    {
     "name": "stdout",
     "output_type": "stream",
     "text": [
      "<type 'numpy.ndarray'>\n",
      "(2622, 784)\n",
      "(1124, 784)\n"
     ]
    }
   ],
   "source": [
    "print(type(X_train))\n",
    "print(X_train.shape)\n",
    "print(X_test.shape)"
   ]
  },
  {
   "cell_type": "code",
   "execution_count": 23,
   "metadata": {},
   "outputs": [],
   "source": [
    "from sklearn import linear_model\n",
    "LogReg = linear_model.LogisticRegression()\n",
    "#print('LogisticRegression score: ', logistic.fit(X_train, y_train).score(X_test, y_test))"
   ]
  },
  {
   "cell_type": "code",
   "execution_count": 24,
   "metadata": {},
   "outputs": [
    {
     "data": {
      "text/plain": [
       "LogisticRegression(C=1.0, class_weight=None, dual=False, fit_intercept=True,\n",
       "          intercept_scaling=1, max_iter=100, multi_class='ovr', n_jobs=1,\n",
       "          penalty='l2', random_state=None, solver='liblinear', tol=0.0001,\n",
       "          verbose=0, warm_start=False)"
      ]
     },
     "execution_count": 24,
     "metadata": {},
     "output_type": "execute_result"
    }
   ],
   "source": [
    "LogReg.fit(X_train, y_train) "
   ]
  },
  {
   "cell_type": "code",
   "execution_count": 25,
   "metadata": {
    "collapsed": true
   },
   "outputs": [],
   "source": [
    "y_predict = LogReg.predict(X_test)"
   ]
  },
  {
   "cell_type": "code",
   "execution_count": 26,
   "metadata": {},
   "outputs": [],
   "source": [
    "from sklearn.metrics import confusion_matrix, accuracy_score, f1_score\n",
    "from sklearn.model_selection import train_test_split\n",
    "\n",
    "X_train, X_val, y_train, y_val = train_test_split(X_train, y_train, test_size=0.25, random_state=42)\n",
    "\n",
    "    \n",
    "#     confu_matrix = confusion_matrix(y_test, y_predict)\n",
    "#     print(\"Confusion_matrix: \", confu_matrix)\n",
    "\n",
    "#     f1 = f1_score(y_test, y_predict)\n",
    "#     print(\"F1_score: \", f1)\n",
    "\n",
    "x_values = []\n",
    "y_values = []\n",
    "train_scores = []\n",
    "val_scores = []"
   ]
  },
  {
   "cell_type": "code",
   "execution_count": 27,
   "metadata": {},
   "outputs": [
    {
     "name": "stdout",
     "output_type": "stream",
     "text": [
      "Value of C is:  1e-10\n",
      "accuracy_score: train:  0.869277721261 val:  0.878048780488\n",
      "Value of C is:  1e-09\n",
      "accuracy_score: train:  0.937436419125 val:  0.92987804878\n",
      "Value of C is:  1e-08\n",
      "accuracy_score: train:  0.949643947101 val:  0.946646341463\n",
      "Value of C is:  1e-07\n",
      "accuracy_score: train:  0.962868769074 val:  0.955792682927\n",
      "Value of C is:  1e-06\n",
      "accuracy_score: train:  0.982197355036 val:  0.955792682927\n",
      "Value of C is:  1e-05\n",
      "accuracy_score: train:  0.995930824008 val:  0.948170731707\n",
      "Value of C is:  0.0001\n",
      "accuracy_score: train:  1.0 val:  0.939024390244\n",
      "Value of C is:  0.001\n",
      "accuracy_score: train:  1.0 val:  0.9375\n",
      "Value of C is:  0.01\n",
      "accuracy_score: train:  1.0 val:  0.934451219512\n",
      "Value of C is:  0.1\n",
      "accuracy_score: train:  1.0 val:  0.935975609756\n",
      "Value of C is:  1\n",
      "accuracy_score: train:  1.0 val:  0.934451219512\n",
      "Value of C is:  10\n",
      "accuracy_score: train:  1.0 val:  0.934451219512\n",
      "Value of C is:  100\n",
      "accuracy_score: train:  1.0 val:  0.935975609756\n",
      "Value of C is:  1000\n",
      "accuracy_score: train:  1.0 val:  0.934451219512\n",
      "Value of C is:  10000\n",
      "accuracy_score: train:  1.0 val:  0.934451219512\n",
      "Value of C is:  100000\n",
      "accuracy_score: train:  1.0 val:  0.935975609756\n"
     ]
    }
   ],
   "source": [
    "# Experiments\n",
    "for i in range(-10,6):\n",
    "    print \"Value of C is: \", 10**i\n",
    "    \n",
    "    LogReg = linear_model.LogisticRegression(C=10**i)\n",
    "    LogReg.fit(X_train, y_train) \n",
    "    yval_predict = LogReg.predict(X_val)\n",
    "    ytrain_predict = LogReg.predict(X_train)\n",
    "\n",
    "    train_score = accuracy_score(y_train, ytrain_predict)\n",
    "    val_score = accuracy_score(y_val, yval_predict)\n",
    "    x_values.append(10**i)\n",
    "    train_scores.append(train_score)\n",
    "    val_scores.append(val_score)\n",
    "    \n",
    "    print \"accuracy_score: train: \", train_score, \"val: \",val_score\n",
    "    "
   ]
  },
  {
   "cell_type": "code",
   "execution_count": 28,
   "metadata": {},
   "outputs": [
    {
     "name": "stdout",
     "output_type": "stream",
     "text": [
      "16\n",
      "[0.87804878048780488, 0.92987804878048785, 0.94664634146341464, 0.95579268292682928, 0.95579268292682928, 0.94817073170731703, 0.93902439024390238, 0.9375, 0.93445121951219512, 0.93597560975609762, 0.93445121951219512, 0.93445121951219512, 0.93597560975609762, 0.93445121951219512, 0.93445121951219512, 0.93597560975609762]\n"
     ]
    }
   ],
   "source": [
    "print(len(val_scores))\n",
    "print(val_scores)"
   ]
  },
  {
   "cell_type": "code",
   "execution_count": 29,
   "metadata": {},
   "outputs": [
    {
     "data": {
      "text/plain": [
       "[<matplotlib.lines.Line2D at 0x7f6e13ed0910>]"
      ]
     },
     "execution_count": 29,
     "metadata": {},
     "output_type": "execute_result"
    },
    {
     "data": {
      "image/png": "[encoded data removed]",
      "text/plain": [
       "<matplotlib.figure.Figure at 0x7f6e13ed6c50>"
      ]
     },
     "metadata": {},
     "output_type": "display_data"
    }
   ],
   "source": [
    "import matplotlib.pyplot as plt\n",
    "plt.title(\"Validation Curve for LogisticRegression\")\n",
    "plt.xlabel(\"$\\gamma$\")\n",
    "plt.ylabel(\"Accuracy_scores\")\n",
    "plt.ylim(0.0,1.1)\n",
    "\n",
    "plt.semilogx(x_values, train_scores, label=\"Training_accuracies\", color=\"darkorange\")\n",
    "plt.semilogx(x_values, val_scores, label=\"Validation_scores\", color=\"navy\")\n"
   ]
  },
  {
   "cell_type": "code",
   "execution_count": 39,
   "metadata": {},
   "outputs": [
    {
     "name": "stdout",
     "output_type": "stream",
     "text": [
      "Value of C is:  1e-08\n",
      "Value of C is:  1e-07\n",
      "Value of C is:  1e-06\n",
      "Value of C is:  1e-05\n",
      "Value of C is:  0.0001\n",
      "Value of C is:  0.001\n",
      "Value of C is:  0.01\n",
      "Value of C is:  0.1\n",
      "Value of C is:  1\n",
      "Value of C is:  10\n",
      "Value of C is:  100\n",
      "Value of C is:  1000\n",
      "Value of C is:  10000\n",
      "Value of C is:  100000\n",
      "Value of C is:  1000000\n",
      "Value of C is:  10000000\n",
      "Value of C is:  100000000\n",
      "Value of C is:  1000000000\n"
     ]
    },
    {
     "data": {
      "text/plain": [
       "[<matplotlib.lines.Line2D at 0x7f6e27213250>]"
      ]
     },
     "execution_count": 39,
     "metadata": {},
     "output_type": "execute_result"
    },
    {
     "data": {
      "image/png": "[encoded data removed]",
      "text/plain": [
       "<matplotlib.figure.Figure at 0x7f6e2bc883d0>"
      ]
     },
     "metadata": {},
     "output_type": "display_data"
    }
   ],
   "source": [
    "test_scores = []\n",
    "new_x = []\n",
    "\n",
    "for i in range(-8,10):\n",
    "    print \"Value of C is: \", 10**i\n",
    "    \n",
    "    LogReg = linear_model.LogisticRegression(C=10**i)\n",
    "    LogReg.fit(X_train, y_train) \n",
    "    ytest_predict = LogReg.predict(X_test)\n",
    "    \n",
    "    test_score = accuracy_score(y_test, ytest_predict)\n",
    "    new_x.append(10**i)\n",
    "    test_scores.append(test_score)\n",
    "    \n",
    "plt.title(\"Validation Curve for LogisticRegression\")\n",
    "plt.xlabel(\"$\\gamma$\")\n",
    "plt.ylabel(\"Accuracy_scores\")\n",
    "plt.ylim(0.0,1.1)\n",
    "\n",
    "plt.semilogx(new_x, test_scores, label=\"Testing_accuracies\", color=\"darkorange\")\n"
   ]
  },
  {
   "cell_type": "code",
   "execution_count": 40,
   "metadata": {},
   "outputs": [
    {
     "name": "stdout",
     "output_type": "stream",
     "text": [
      "Value of C is:  1e-10\n",
      "accuracy_score: train:  0.501525940997 val:  0.50762195122\n",
      "Value of C is:  1e-09\n",
      "accuracy_score: train:  0.501525940997 val:  0.50762195122\n",
      "Value of C is:  1e-08\n",
      "accuracy_score: train:  0.501525940997 val:  0.50762195122\n",
      "Value of C is:  1e-07\n",
      "accuracy_score: train:  0.501525940997 val:  0.50762195122\n",
      "Value of C is:  1e-06\n",
      "accuracy_score: train:  0.501525940997 val:  0.50762195122\n",
      "Value of C is:  1e-05\n",
      "accuracy_score: train:  0.501525940997 val:  0.50762195122\n",
      "Value of C is:  0.0001\n",
      "accuracy_score: train:  0.946592065107 val:  0.9375\n",
      "Value of C is:  0.001\n",
      "accuracy_score: train:  0.974567650051 val:  0.954268292683\n",
      "Value of C is:  0.01\n",
      "accuracy_score: train:  0.998474059003 val:  0.943597560976\n",
      "Value of C is:  0.1\n",
      "accuracy_score: train:  1.0 val:  0.943597560976\n",
      "Value of C is:  1\n",
      "accuracy_score: train:  1.0 val:  0.9375\n",
      "Value of C is:  10\n",
      "accuracy_score: train:  1.0 val:  0.939024390244\n",
      "Value of C is:  100\n",
      "accuracy_score: train:  1.0 val:  0.9375\n",
      "Value of C is:  1000\n",
      "accuracy_score: train:  1.0 val:  0.935975609756\n",
      "Value of C is:  10000\n",
      "accuracy_score: train:  1.0 val:  0.939024390244\n",
      "Value of C is:  100000\n",
      "accuracy_score: train:  1.0 val:  0.935975609756\n"
     ]
    }
   ],
   "source": [
    "x1_values = []\n",
    "y1_values = []\n",
    "train1_scores = []\n",
    "val1_scores = []\n",
    "\n",
    "# Experiments\n",
    "for i in range(-10,6):\n",
    "    print \"Value of C is: \", 10**i\n",
    "    \n",
    "    LogReg = linear_model.LogisticRegression(C=10**i, penalty='l1')\n",
    "    LogReg.fit(X_train, y_train) \n",
    "    yval_predict = LogReg.predict(X_val)\n",
    "    ytrain_predict = LogReg.predict(X_train)\n",
    "\n",
    "    train_score = accuracy_score(y_train, ytrain_predict)\n",
    "    val_score = accuracy_score(y_val, yval_predict)\n",
    "    x1_values.append(10**i)\n",
    "    train1_scores.append(train_score)\n",
    "    val1_scores.append(val_score)\n",
    "    \n",
    "    print \"accuracy_score: train: \", train_score, \"val: \",val_score\n",
    "    "
   ]
  },
  {
   "cell_type": "code",
   "execution_count": 41,
   "metadata": {},
   "outputs": [
    {
     "data": {
      "text/plain": [
       "[<matplotlib.lines.Line2D at 0x7f6e27362410>]"
      ]
     },
     "execution_count": 41,
     "metadata": {},
     "output_type": "execute_result"
    },
    {
     "data": {
      "image/png": "[encoded data removed]",
      "text/plain": [
       "<matplotlib.figure.Figure at 0x7f6e27384790>"
      ]
     },
     "metadata": {},
     "output_type": "display_data"
    }
   ],
   "source": [
    "plt.title(\"Validation Curve for LogisticRegression\")\n",
    "plt.xlabel(\"$\\gamma$\")\n",
    "plt.ylabel(\"Accuracy_scores\")\n",
    "plt.ylim(0.0,1.1)\n",
    "\n",
    "plt.semilogx(x1_values, train1_scores, label=\"Training_accuracies\", color=\"darkorange\")\n",
    "plt.semilogx(x1_values, val1_scores, label=\"Validation_scores\", color=\"navy\")\n"
   ]
  },
  {
   "cell_type": "code",
   "execution_count": 139,
   "metadata": {},
   "outputs": [
    {
     "name": "stdout",
     "output_type": "stream",
     "text": [
      "0.947508896797\n"
     ]
    }
   ],
   "source": [
    "LogReg = linear_model.LogisticRegression(C=10**-2, penalty='l1')\n",
    "LogReg.fit(X_train, y_train)\n",
    "ytest_score = LogReg.predict(X_test)\n",
    "score = accuracy_score(y_test, ytest_score)\n",
    "print(score)"
   ]
  },
  {
   "cell_type": "code",
   "execution_count": 140,
   "metadata": {},
   "outputs": [
    {
     "name": "stdout",
     "output_type": "stream",
     "text": [
      "Sparsity with L1 penalty: 75.51%\n"
     ]
    },
    {
     "data": {
      "text/plain": [
       "<matplotlib.image.AxesImage at 0x7f6e1d7f4d50>"
      ]
     },
     "execution_count": 140,
     "metadata": {},
     "output_type": "execute_result"
    },
    {
     "data": {
      "image/png": "[encoded data removed]",
      "text/plain": [
       "<matplotlib.figure.Figure at 0x7f6e1d8f7510>"
      ]
     },
     "metadata": {},
     "output_type": "display_data"
    }
   ],
   "source": [
    "vis = LogReg.coef_ * X_test[0,:]\n",
    "\n",
    "coef_l1_LR = LogReg.coef_.ravel()\n",
    "sparsity_l1_LR = np.mean(coef_l1_LR == 0) * 100\n",
    "\n",
    "print(\"Sparsity with L1 penalty: %.2f%%\" % sparsity_l1_LR)\n",
    "plt.imshow(np.abs(vis.reshape(28, 28)), interpolation='nearest',\n",
    "                   cmap='binary', vmax=1, vmin=0)"
   ]
  },
  {
   "cell_type": "code",
   "execution_count": 162,
   "metadata": {},
   "outputs": [
    {
     "name": "stdout",
     "output_type": "stream",
     "text": [
      "0.943060498221\n"
     ]
    }
   ],
   "source": [
    "LogReg = linear_model.LogisticRegression(C=10**-3, penalty='l2')\n",
    "LogReg.fit(X_train, y_train)\n",
    "ytest_score = LogReg.predict(X_test)\n",
    "score = accuracy_score(y_test, ytest_score)\n",
    "print(score)"
   ]
  },
  {
   "cell_type": "code",
   "execution_count": null,
   "metadata": {},
   "outputs": [
    {
     "name": "stdout",
     "output_type": "stream",
     "text": [
      "Sparsity with L2 penalty: 0.00%\n"
     ]
    },
    {
     "data": {
      "text/plain": [
       "<matplotlib.image.AxesImage at 0x7f6e1cf5dc90>"
      ]
     },
     "execution_count": 163,
     "metadata": {},
     "output_type": "execute_result"
    },
    {
     "data": {
      "image/png": "[encoded data removed]",
      "text/plain": [
       "<matplotlib.figure.Figure at 0x7f6e1d05a890>"
      ]
     },
     "metadata": {},
     "output_type": "display_data"
    }
   ],
   "source": [
    "vis_l2 = LogReg.coef_ * X_test[0,:]\n",
    "sparsity_l2_LR = np.mean(coef_l2_LR == 0) * 100\n",
    "\n",
    "print(\"Sparsity with L2 penalty: %.2f%%\" % sparsity_l2_LR)\n",
    "plt.imshow(np.abs(vis_l2.reshape(28, 28)), interpolation='nearest',\n",
    "                   cmap='binary', vmax=1, vmin=0)"
   ]
  },
  {
   "cell_type": "code",
   "execution_count": null,
   "metadata": {
    "collapsed": true
   },
   "outputs": [],
   "source": []
  }
 ],
 "metadata": {
  "anaconda-cloud": {},
  "kernelspec": {
   "display_name": "Python 2",
   "language": "python",
   "name": "python2"
  },
  "language_info": {
   "codemirror_mode": {
    "name": "ipython",
    "version": 2
   },
   "file_extension": ".py",
   "mimetype": "text/x-python",
   "name": "python",
   "nbconvert_exporter": "python",
   "pygments_lexer": "ipython2",
   "version": "2.7.12"
  }
 },
 "nbformat": 4,
 "nbformat_minor": 2
}
