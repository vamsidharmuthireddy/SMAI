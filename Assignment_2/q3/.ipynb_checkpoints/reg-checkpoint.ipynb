{
 "cells": [
  {
   "cell_type": "code",
   "execution_count": 1,
   "metadata": {},
   "outputs": [],
   "source": [
    "%matplotlib inline"
   ]
  },
  {
   "cell_type": "code",
   "execution_count": 2,
   "metadata": {},
   "outputs": [],
   "source": [
    "from numpy import genfromtxt\n",
    "from sklearn import linear_model\n",
    "from sklearn.metrics import accuracy_score, precision_score, confusion_matrix, recall_score, f1_score\n",
    "from sklearn.model_selection import train_test_split\n",
    "import matplotlib.pyplot as plt\n",
    "import numpy as np\n",
    "from random import randint\n",
    "import PIL.Image\n",
    "from cStringIO import StringIO\n",
    "import IPython.display"
   ]
  },
  {
   "cell_type": "code",
   "execution_count": 3,
   "metadata": {},
   "outputs": [],
   "source": [
    "X_train = genfromtxt('notMNIST_train_data.csv', delimiter=',')\n",
    "Y_train = genfromtxt('notMNIST_train_labels.csv', delimiter=',')\n",
    "X_test = genfromtxt('notMNIST_test_data.csv', delimiter=',')\n",
    "Y_test = genfromtxt('notMNIST_test_labels.csv', delimiter=',')\n",
    "# print X_train.shape"
   ]
  },
  {
   "cell_type": "code",
   "execution_count": 4,
   "metadata": {},
   "outputs": [],
   "source": [
    "def showarray(a, fmt='png'):\n",
    "    a = np.uint8(a)\n",
    "    f = StringIO()\n",
    "    PIL.Image.fromarray(a).save(f, fmt)\n",
    "    IPython.display.display(IPython.display.Image(data=f.getvalue()))"
   ]
  },
  {
   "cell_type": "code",
   "execution_count": 5,
   "metadata": {},
   "outputs": [
    {
     "name": "stdout",
     "output_type": "stream",
     "text": [
      "1.0\n"
     ]
    },
    {
     "data": {
      "image/png": "[encoded data removed]",
      "text/plain": [
       "<IPython.core.display.Image object>"
      ]
     },
     "metadata": {},
     "output_type": "display_data"
    }
   ],
   "source": [
    "n = randint(1, 1000)\n",
    "# n=10\n",
    "label = Y_test[n]\n",
    "im = X_test[n, :].reshape((28, 28))\n",
    "print(label)\n",
    "showarray(im)"
   ]
  },
  {
   "cell_type": "code",
   "execution_count": 6,
   "metadata": {},
   "outputs": [
    {
     "name": "stdout",
     "output_type": "stream",
     "text": [
      "<type 'numpy.ndarray'>\n",
      "(2622, 784)\n",
      "(1124, 784)\n"
     ]
    }
   ],
   "source": [
    "print(type(X_train))\n",
    "print(X_train.shape)\n",
    "print(X_test.shape)"
   ]
  },
  {
   "cell_type": "code",
   "execution_count": 7,
   "metadata": {},
   "outputs": [
    {
     "data": {
      "text/plain": [
       "LogisticRegression(C=1.0, class_weight=None, dual=False, fit_intercept=True,\n",
       "          intercept_scaling=1, max_iter=100, multi_class='ovr', n_jobs=1,\n",
       "          penalty='l2', random_state=None, solver='liblinear', tol=0.0001,\n",
       "          verbose=0, warm_start=False)"
      ]
     },
     "execution_count": 7,
     "metadata": {},
     "output_type": "execute_result"
    }
   ],
   "source": [
    "logreg = linear_model.LogisticRegression()\n",
    "\n",
    "# we create an instance of Neighbours Classifier and fit the data.\n",
    "logreg.fit(X_train, Y_train)"
   ]
  },
  {
   "cell_type": "code",
   "execution_count": 8,
   "metadata": {},
   "outputs": [
    {
     "name": "stdout",
     "output_type": "stream",
     "text": [
      "('F1_score: ', 0.93766461808604051)\n",
      "0.936832740214\n"
     ]
    }
   ],
   "source": [
    "Y_pred = logreg.predict(X_test)\n",
    "\n",
    "X_train, X_val, Y_train, Y_val = train_test_split(X_train, Y_train, test_size=0.25, random_state=42)\n",
    "\n",
    "f1 = f1_score(Y_test, Y_pred)\n",
    "print(\"F1_score: \", f1)\n",
    "\n",
    "accuracy = accuracy_score(Y_test, Y_pred)\n",
    "print accuracy"
   ]
  },
  {
   "cell_type": "code",
   "execution_count": 9,
   "metadata": {},
   "outputs": [
    {
     "name": "stdout",
     "output_type": "stream",
     "text": [
      "accuracy_score: train: 1.000000 val: 0.935976\n",
      "best_C: train: 1.000000 val: 0.960000\n"
     ]
    }
   ],
   "source": [
    "# Experiments\n",
    "x_values = []\n",
    "y_values = []\n",
    "train_scores_l2 = []\n",
    "val_scores_l2 = []\n",
    "\n",
    "C_count = 100.0\n",
    "\n",
    "for i in range(1,int(C_count)+1):\n",
    "    C = i/C_count\n",
    "#     print \"Value of C is: \", C\n",
    "    \n",
    "    LogReg = linear_model.LogisticRegression(C=C)\n",
    "    LogReg.fit(X_train, Y_train) \n",
    "    Yval_predict = LogReg.predict(X_val)\n",
    "    Ytrain_predict = LogReg.predict(X_train)\n",
    "\n",
    "    train_score = accuracy_score(Y_train, Ytrain_predict)\n",
    "    val_score = accuracy_score(Y_val, Yval_predict)\n",
    "    x_values.append(C)\n",
    "    train_scores_l2.append(train_score)\n",
    "    val_scores_l2.append(val_score)\n",
    "    \n",
    "#     print \"C: \", C, \" accuracy_score: train: \", train_score, \"val: \",val_score\n",
    "\n",
    "\n",
    "max_train_accuracy_l2 = max(train_scores_l2)\n",
    "max_train_accuracy_indices = [i for i, x in enumerate(train_scores_l2) if x == max_train_accuracy_l2]\n",
    "max_train_accuracy_index = max_train_accuracy_indices[-1]\n",
    "best_train_C_l2 = (max_train_accuracy_index + 1) / C_count\n",
    "\n",
    "max_val_accuracy_l2 = max(val_scores_l2)\n",
    "max_val_accuracy_indices = [i for i, x in enumerate(val_scores_l2) if x == max_val_accuracy_l2]\n",
    "max_val_accuracy_index = max_val_accuracy_indices[-1]\n",
    "best_val_C_l2 = (max_val_accuracy_index + 1) / C_count\n",
    "print \"accuracy_score: train: %f val: %f\" % (max_train_accuracy_l2, max_val_accuracy_l2)\n",
    "print \"best_C: train: %f val: %f\" % (best_train_C_l2, best_val_C_l2)"
   ]
  },
  {
   "cell_type": "code",
   "execution_count": 18,
   "metadata": {},
   "outputs": [
    {
     "name": "stdout",
     "output_type": "stream",
     "text": [
      "C:  0.01  accuracy_score: train:  0.998474059003 val:  0.943597560976\n",
      "C:  0.02  accuracy_score: train:  0.999491353001 val:  0.94512195122\n",
      "C:  0.03  accuracy_score: train:  1.0 val:  0.94512195122\n",
      "C:  0.04  accuracy_score: train:  1.0 val:  0.943597560976\n",
      "C:  0.05  accuracy_score: train:  1.0 val:  0.943597560976\n",
      "C:  0.06  accuracy_score: train:  1.0 val:  0.942073170732\n",
      "C:  0.07  accuracy_score: train:  1.0 val:  0.940548780488\n",
      "C:  0.08  accuracy_score: train:  1.0 val:  0.943597560976\n",
      "C:  0.09  accuracy_score: train:  1.0 val:  0.946646341463\n",
      "C:  0.1  accuracy_score: train:  1.0 val:  0.943597560976\n",
      "C:  0.11  accuracy_score: train:  1.0 val:  0.94512195122\n",
      "C:  0.12  accuracy_score: train:  1.0 val:  0.942073170732\n",
      "C:  0.13  accuracy_score: train:  1.0 val:  0.942073170732\n",
      "C:  0.14  accuracy_score: train:  1.0 val:  0.946646341463\n",
      "C:  0.15  accuracy_score: train:  1.0 val:  0.942073170732\n",
      "C:  0.16  accuracy_score: train:  1.0 val:  0.94512195122\n",
      "C:  0.17  accuracy_score: train:  1.0 val:  0.942073170732\n",
      "C:  0.18  accuracy_score: train:  1.0 val:  0.942073170732\n",
      "C:  0.19  accuracy_score: train:  1.0 val:  0.940548780488\n",
      "C:  0.2  accuracy_score: train:  1.0 val:  0.940548780488\n",
      "C:  0.21  accuracy_score: train:  1.0 val:  0.942073170732\n",
      "C:  0.22  accuracy_score: train:  1.0 val:  0.942073170732\n",
      "C:  0.23  accuracy_score: train:  1.0 val:  0.939024390244\n",
      "C:  0.24  accuracy_score: train:  1.0 val:  0.942073170732\n",
      "C:  0.25  accuracy_score: train:  1.0 val:  0.940548780488\n",
      "C:  0.26  accuracy_score: train:  1.0 val:  0.942073170732\n",
      "C:  0.27  accuracy_score: train:  1.0 val:  0.940548780488\n",
      "C:  0.28  accuracy_score: train:  1.0 val:  0.940548780488\n",
      "C:  0.29  accuracy_score: train:  1.0 val:  0.940548780488\n",
      "C:  0.3  accuracy_score: train:  1.0 val:  0.940548780488\n",
      "C:  0.31  accuracy_score: train:  1.0 val:  0.942073170732\n",
      "C:  0.32  accuracy_score: train:  1.0 val:  0.939024390244\n",
      "C:  0.33  accuracy_score: train:  1.0 val:  0.940548780488\n",
      "C:  0.34  accuracy_score: train:  1.0 val:  0.943597560976\n",
      "C:  0.35  accuracy_score: train:  1.0 val:  0.940548780488\n",
      "C:  0.36  accuracy_score: train:  1.0 val:  0.9375\n",
      "C:  0.37  accuracy_score: train:  1.0 val:  0.943597560976\n",
      "C:  0.38  accuracy_score: train:  1.0 val:  0.942073170732\n",
      "C:  0.39  accuracy_score: train:  1.0 val:  0.942073170732\n",
      "C:  0.4  accuracy_score: train:  1.0 val:  0.940548780488\n",
      "C:  0.41  accuracy_score: train:  1.0 val:  0.940548780488\n",
      "C:  0.42  accuracy_score: train:  1.0 val:  0.942073170732\n",
      "C:  0.43  accuracy_score: train:  1.0 val:  0.940548780488\n",
      "C:  0.44  accuracy_score: train:  1.0 val:  0.940548780488\n",
      "C:  0.45  accuracy_score: train:  1.0 val:  0.9375\n",
      "C:  0.46  accuracy_score: train:  1.0 val:  0.939024390244\n",
      "C:  0.47  accuracy_score: train:  1.0 val:  0.940548780488\n",
      "C:  0.48  accuracy_score: train:  1.0 val:  0.939024390244\n",
      "C:  0.49  accuracy_score: train:  1.0 val:  0.940548780488\n",
      "C:  0.5  accuracy_score: train:  1.0 val:  0.940548780488\n",
      "C:  0.51  accuracy_score: train:  1.0 val:  0.940548780488\n",
      "C:  0.52  accuracy_score: train:  1.0 val:  0.940548780488\n",
      "C:  0.53  accuracy_score: train:  1.0 val:  0.940548780488\n",
      "C:  0.54  accuracy_score: train:  1.0 val:  0.942073170732\n",
      "C:  0.55  accuracy_score: train:  1.0 val:  0.940548780488\n",
      "C:  0.56  accuracy_score: train:  1.0 val:  0.940548780488\n",
      "C:  0.57  accuracy_score: train:  1.0 val:  0.9375\n",
      "C:  0.58  accuracy_score: train:  1.0 val:  0.940548780488\n",
      "C:  0.59  accuracy_score: train:  1.0 val:  0.940548780488\n",
      "C:  0.6  accuracy_score: train:  1.0 val:  0.940548780488\n",
      "C:  0.61  accuracy_score: train:  1.0 val:  0.9375\n",
      "C:  0.62  accuracy_score: train:  1.0 val:  0.940548780488\n",
      "C:  0.63  accuracy_score: train:  1.0 val:  0.942073170732\n",
      "C:  0.64  accuracy_score: train:  1.0 val:  0.939024390244\n",
      "C:  0.65  accuracy_score: train:  1.0 val:  0.935975609756\n",
      "C:  0.66  accuracy_score: train:  1.0 val:  0.940548780488\n",
      "C:  0.67  accuracy_score: train:  1.0 val:  0.940548780488\n",
      "C:  0.68  accuracy_score: train:  1.0 val:  0.940548780488\n",
      "C:  0.69  accuracy_score: train:  1.0 val:  0.942073170732\n",
      "C:  0.7  accuracy_score: train:  1.0 val:  0.940548780488\n",
      "C:  0.71  accuracy_score: train:  1.0 val:  0.940548780488\n",
      "C:  0.72  accuracy_score: train:  1.0 val:  0.940548780488\n",
      "C:  0.73  accuracy_score: train:  1.0 val:  0.9375\n",
      "C:  0.74  accuracy_score: train:  1.0 val:  0.939024390244\n",
      "C:  0.75  accuracy_score: train:  1.0 val:  0.939024390244\n",
      "C:  0.76  accuracy_score: train:  1.0 val:  0.9375\n",
      "C:  0.77  accuracy_score: train:  1.0 val:  0.939024390244\n",
      "C:  0.78  accuracy_score: train:  1.0 val:  0.935975609756\n",
      "C:  0.79  accuracy_score: train:  1.0 val:  0.940548780488\n",
      "C:  0.8  accuracy_score: train:  1.0 val:  0.939024390244\n",
      "C:  0.81  accuracy_score: train:  1.0 val:  0.9375\n",
      "C:  0.82  accuracy_score: train:  1.0 val:  0.942073170732\n",
      "C:  0.83  accuracy_score: train:  1.0 val:  0.9375\n",
      "C:  0.84  accuracy_score: train:  1.0 val:  0.939024390244\n",
      "C:  0.85  accuracy_score: train:  1.0 val:  0.940548780488\n",
      "C:  0.86  accuracy_score: train:  1.0 val:  0.9375\n",
      "C:  0.87  accuracy_score: train:  1.0 val:  0.942073170732\n",
      "C:  0.88  accuracy_score: train:  1.0 val:  0.9375\n",
      "C:  0.89  accuracy_score: train:  1.0 val:  0.9375\n",
      "C:  0.9  accuracy_score: train:  1.0 val:  0.9375\n",
      "C:  0.91  accuracy_score: train:  1.0 val:  0.940548780488\n",
      "C:  0.92  accuracy_score: train:  1.0 val:  0.940548780488\n",
      "C:  0.93  accuracy_score: train:  1.0 val:  0.939024390244\n",
      "C:  0.94  accuracy_score: train:  1.0 val:  0.939024390244\n",
      "C:  0.95  accuracy_score: train:  1.0 val:  0.9375\n",
      "C:  0.96  accuracy_score: train:  1.0 val:  0.939024390244\n",
      "C:  0.97  accuracy_score: train:  1.0 val:  0.940548780488\n",
      "C:  0.98  accuracy_score: train:  1.0 val:  0.943597560976\n",
      "C:  0.99  accuracy_score: train:  1.0 val:  0.939024390244\n",
      "C:  1.0  accuracy_score: train:  1.0 val:  0.940548780488\n",
      "accuracy_score: train: 1.000000 val: 0.946646\n",
      "best_C: train: 1.000000 val: 0.140000\n"
     ]
    },
    {
     "data": {
      "image/png": "[encoded data removed]",
      "text/plain": [
       "<matplotlib.figure.Figure at 0x7ff6d7fbb250>"
      ]
     },
     "metadata": {},
     "output_type": "display_data"
    }
   ],
   "source": [
    "# Experiments\n",
    "x_values = []\n",
    "y_values = []\n",
    "train_scores_l1 = []\n",
    "val_scores_l1 = []\n",
    "\n",
    "C_count = 100.0\n",
    "\n",
    "for i in range(1,int(C_count)+1):\n",
    "    C = i/C_count\n",
    "#     print \"Value of C is: \", C\n",
    "    \n",
    "    LogReg = linear_model.LogisticRegression(C=C, penalty='l1')\n",
    "    LogReg.fit(X_train, Y_train) \n",
    "    Yval_predict = LogReg.predict(X_val)\n",
    "    Ytrain_predict = LogReg.predict(X_train)\n",
    "\n",
    "    train_score = accuracy_score(Y_train, Ytrain_predict)\n",
    "    val_score = accuracy_score(Y_val, Yval_predict)\n",
    "    x_values.append(C)\n",
    "    train_scores_l1.append(train_score)\n",
    "    val_scores_l1.append(val_score)\n",
    "    \n",
    "#     print \"C: \", C, \" accuracy_score: train: \", train_score, \"val: \",val_score\n",
    "\n",
    "max_train_accuracy_l1 = max(train_scores_l1)\n",
    "max_train_accuracy_indices = [i for i, x in enumerate(train_scores_l1) if x == max_train_accuracy_l1]\n",
    "max_train_accuracy_index = max_train_accuracy_indices[-1]\n",
    "best_train_C_l1 = (max_train_accuracy_index + 1) / C_count\n",
    "\n",
    "max_val_accuracy_l1 = max(val_scores_l1)\n",
    "max_val_accuracy_indices = [i for i, x in enumerate(val_scores_l1) if x == max_val_accuracy_l1]\n",
    "max_val_accuracy_index = max_val_accuracy_indices[-1]\n",
    "best_val_C_l1 = (max_val_accuracy_index + 1) / C_count\n",
    "print \"accuracy_score: train: %f val: %f\" % (max_train_accuracy_l1, max_val_accuracy_l1)\n",
    "print \"best_C: train: %f val: %f\" % (best_train_C_l1, best_val_C_l1)"
   ]
  },
  {
   "cell_type": "code",
   "execution_count": 11,
   "metadata": {},
   "outputs": [
    {
     "name": "stdout",
     "output_type": "stream",
     "text": [
      "0.944839857651\n"
     ]
    }
   ],
   "source": [
    "LogReg = linear_model.LogisticRegression(C=best_val_C_l1, penalty='l1')\n",
    "LogReg.fit(X_train, Y_train)\n",
    "Ytest_score = LogReg.predict(X_test)\n",
    "score = accuracy_score(Y_test, Ytest_score)\n",
    "print(score)"
   ]
  },
  {
   "cell_type": "code",
   "execution_count": 12,
   "metadata": {},
   "outputs": [
    {
     "name": "stdout",
     "output_type": "stream",
     "text": [
      "Sparsity with L1 penalty: 72.19%\n"
     ]
    },
    {
     "data": {
      "text/plain": [
       "<matplotlib.image.AxesImage at 0x7ff6d9502c50>"
      ]
     },
     "execution_count": 12,
     "metadata": {},
     "output_type": "execute_result"
    },
    {
     "data": {
      "image/png": "[encoded data removed]",
      "text/plain": [
       "<matplotlib.figure.Figure at 0x7ff6d950f1d0>"
      ]
     },
     "metadata": {},
     "output_type": "display_data"
    }
   ],
   "source": [
    "vis = LogReg.coef_ * X_test[0,:]\n",
    "\n",
    "coef_l1_LR = LogReg.coef_.ravel()\n",
    "plt.imshow(np.abs(vis.reshape(28, 28)), interpolation='nearest', cmap='binary', vmax=1, vmin=0)"
   ]
  },
  {
   "cell_type": "code",
   "execution_count": 13,
   "metadata": {},
   "outputs": [
    {
     "name": "stdout",
     "output_type": "stream",
     "text": [
      "0.94128113879\n"
     ]
    }
   ],
   "source": [
    "LogReg = linear_model.LogisticRegression(C=best_val_C_l2, penalty='l2')\n",
    "LogReg.fit(X_train, Y_train)\n",
    "Ytest_score = LogReg.predict(X_test)\n",
    "score = accuracy_score(Y_test, Ytest_score)\n",
    "print(score)"
   ]
  },
  {
   "cell_type": "code",
   "execution_count": 16,
   "metadata": {},
   "outputs": [
    {
     "name": "stdout",
     "output_type": "stream",
     "text": [
      "Sparsity with L1 penalty: 0.00%\n"
     ]
    },
    {
     "data": {
      "text/plain": [
       "<matplotlib.image.AxesImage at 0x7ff6d81fd7d0>"
      ]
     },
     "execution_count": 16,
     "metadata": {},
     "output_type": "execute_result"
    },
    {
     "data": {
      "image/png": "[encoded data removed]",
      "text/plain": [
       "<matplotlib.figure.Figure at 0x7ff6d94d6590>"
      ]
     },
     "metadata": {},
     "output_type": "display_data"
    }
   ],
   "source": [
    "vis = LogReg.coef_ * X_test[0,:]\n",
    "\n",
    "coef_l2_LR = LogReg.coef_.ravel()\n",
    "plt.imshow(np.abs(vis.reshape(28, 28)), interpolation='nearest', cmap='binary', vmax=1, vmin=0)"
   ]
  },
  {
   "cell_type": "code",
   "execution_count": null,
   "metadata": {},
   "outputs": [],
   "source": []
  }
 ],
 "metadata": {
  "kernelspec": {
   "display_name": "Python 2",
   "language": "python",
   "name": "python2"
  },
  "language_info": {
   "codemirror_mode": {
    "name": "ipython",
    "version": 2
   },
   "file_extension": ".py",
   "mimetype": "text/x-python",
   "name": "python",
   "nbconvert_exporter": "python",
   "pygments_lexer": "ipython2",
   "version": "2.7.12"
  }
 },
 "nbformat": 4,
 "nbformat_minor": 2
}
