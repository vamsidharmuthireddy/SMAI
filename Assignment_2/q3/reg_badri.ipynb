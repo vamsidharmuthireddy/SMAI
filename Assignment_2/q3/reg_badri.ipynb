{
 "cells": [
  {
   "cell_type": "code",
   "execution_count": 1,
   "metadata": {},
   "outputs": [],
   "source": [
    "%matplotlib inline"
   ]
  },
  {
   "cell_type": "code",
   "execution_count": 2,
   "metadata": {},
   "outputs": [],
   "source": [
    "from numpy import genfromtxt\n",
    "import numpy as np\n",
    "from random import randint\n",
    "import PIL.Image\n",
    "from cStringIO import StringIO\n",
    "import IPython.display"
   ]
  },
  {
   "cell_type": "code",
   "execution_count": 3,
   "metadata": {},
   "outputs": [],
   "source": [
    "X_train = genfromtxt('notMNIST_train_data.csv', delimiter=',')\n",
    "y_train = genfromtxt('notMNIST_train_labels.csv', delimiter=',')\n",
    "X_test = genfromtxt('notMNIST_test_data.csv', delimiter=',')\n",
    "y_test = genfromtxt('notMNIST_test_labels.csv', delimiter=',')"
   ]
  },
  {
   "cell_type": "code",
   "execution_count": 4,
   "metadata": {},
   "outputs": [],
   "source": [
    "def showarray(a, fmt='png'):\n",
    "    a = np.uint8(a)\n",
    "    f = StringIO()\n",
    "    PIL.Image.fromarray(a).save(f, fmt)\n",
    "    IPython.display.display(IPython.display.Image(data=f.getvalue()))"
   ]
  },
  {
   "cell_type": "code",
   "execution_count": 5,
   "metadata": {},
   "outputs": [
    {
     "name": "stdout",
     "output_type": "stream",
     "text": [
      "1.0\n"
     ]
    },
    {
     "data": {
      "image/png": "[encoded data removed]",
      "text/plain": [
       "<IPython.core.display.Image object>"
      ]
     },
     "metadata": {},
     "output_type": "display_data"
    }
   ],
   "source": [
    "n = randint(1, 1000)\n",
    "label = y_test[n]\n",
    "im = X_test[n, :].reshape((28, 28))\n",
    "print(label)\n",
    "showarray(im)"
   ]
  },
  {
   "cell_type": "code",
   "execution_count": 6,
   "metadata": {},
   "outputs": [
    {
     "name": "stdout",
     "output_type": "stream",
     "text": [
      "<type 'numpy.ndarray'>\n",
      "(2622, 784)\n",
      "(1124, 784)\n"
     ]
    }
   ],
   "source": [
    "print(type(X_train))\n",
    "print(X_train.shape)\n",
    "print(X_test.shape)"
   ]
  },
  {
   "cell_type": "code",
   "execution_count": 7,
   "metadata": {},
   "outputs": [],
   "source": [
    "from sklearn import linear_model\n",
    "LogReg = linear_model.LogisticRegression()\n",
    "#print('LogisticRegression score: ', logistic.fit(X_train, y_train).score(X_test, y_test))"
   ]
  },
  {
   "cell_type": "code",
   "execution_count": 8,
   "metadata": {},
   "outputs": [
    {
     "data": {
      "text/plain": [
       "LogisticRegression(C=1.0, class_weight=None, dual=False, fit_intercept=True,\n",
       "          intercept_scaling=1, max_iter=100, multi_class='ovr', n_jobs=1,\n",
       "          penalty='l2', random_state=None, solver='liblinear', tol=0.0001,\n",
       "          verbose=0, warm_start=False)"
      ]
     },
     "execution_count": 8,
     "metadata": {},
     "output_type": "execute_result"
    }
   ],
   "source": [
    "LogReg.fit(X_train, y_train) "
   ]
  },
  {
   "cell_type": "code",
   "execution_count": 9,
   "metadata": {},
   "outputs": [],
   "source": [
    "y_predict = LogReg.predict(X_test)"
   ]
  },
  {
   "cell_type": "code",
   "execution_count": 10,
   "metadata": {},
   "outputs": [
    {
     "name": "stdout",
     "output_type": "stream",
     "text": [
      "('Confusion_matrix: ', array([[519,  35],\n",
      "       [ 36, 534]]))\n",
      "('F1_score: ', 0.93766461808604051)\n",
      "('accuracy_score: ', 0.93683274021352314)\n"
     ]
    }
   ],
   "source": [
    "from sklearn.metrics import confusion_matrix, accuracy_score, f1_score\n",
    "from sklearn.model_selection import train_test_split\n",
    "\n",
    "X_train, X_val, y_train, y_val = train_test_split(X_train, y_train, test_size=0.25, random_state=42)\n",
    "\n",
    "    \n",
    "confu_matrix = confusion_matrix(y_test, y_predict)\n",
    "print(\"Confusion_matrix: \", confu_matrix)\n",
    "\n",
    "f1 = f1_score(y_test, y_predict)\n",
    "print(\"F1_score: \", f1)\n",
    "\n",
    "accuracy = accuracy_score(y_test, y_predict)\n",
    "print(\"accuracy_score: \", accuracy)\n",
    "x_values = []\n",
    "y_values = []\n",
    "train_scores = []\n",
    "val_scores = []"
   ]
  },
  {
   "cell_type": "code",
   "execution_count": 11,
   "metadata": {},
   "outputs": [
    {
     "name": "stdout",
     "output_type": "stream",
     "text": [
      "Value of C is:  1e-10\n",
      "accuracy_score: train:  0.869277721261 val:  0.878048780488\n",
      "Value of C is:  1e-09\n",
      "accuracy_score: train:  0.937436419125 val:  0.92987804878\n",
      "Value of C is:  1e-08\n",
      "accuracy_score: train:  0.949643947101 val:  0.946646341463\n",
      "Value of C is:  1e-07\n",
      "accuracy_score: train:  0.962868769074 val:  0.955792682927\n",
      "Value of C is:  1e-06\n",
      "accuracy_score: train:  0.982197355036 val:  0.955792682927\n",
      "Value of C is:  1e-05\n",
      "accuracy_score: train:  0.995930824008 val:  0.948170731707\n",
      "Value of C is:  0.0001\n",
      "accuracy_score: train:  1.0 val:  0.939024390244\n",
      "Value of C is:  0.001\n",
      "accuracy_score: train:  1.0 val:  0.939024390244\n",
      "Value of C is:  0.01\n",
      "accuracy_score: train:  1.0 val:  0.935975609756\n",
      "Value of C is:  0.1\n",
      "accuracy_score: train:  1.0 val:  0.934451219512\n",
      "Value of C is:  1\n",
      "accuracy_score: train:  1.0 val:  0.934451219512\n",
      "Value of C is:  10\n",
      "accuracy_score: train:  1.0 val:  0.934451219512\n",
      "Value of C is:  100\n",
      "accuracy_score: train:  1.0 val:  0.934451219512\n",
      "Value of C is:  1000\n",
      "accuracy_score: train:  1.0 val:  0.934451219512\n",
      "Value of C is:  10000\n",
      "accuracy_score: train:  1.0 val:  0.935975609756\n",
      "Value of C is:  100000\n",
      "accuracy_score: train:  1.0 val:  0.935975609756\n"
     ]
    }
   ],
   "source": [
    "# Experiments\n",
    "for i in range(-10,6):\n",
    "    print \"Value of C is: \", 10**i\n",
    "    \n",
    "    LogReg = linear_model.LogisticRegression(C=10**i)\n",
    "    LogReg.fit(X_train, y_train) \n",
    "    yval_predict = LogReg.predict(X_val)\n",
    "    ytrain_predict = LogReg.predict(X_train)\n",
    "\n",
    "    train_score = accuracy_score(y_train, ytrain_predict)\n",
    "    val_score = accuracy_score(y_val, yval_predict)\n",
    "    x_values.append(10**i)\n",
    "    train_scores.append(train_score)\n",
    "    val_scores.append(val_score)\n",
    "    \n",
    "#     print \"accuracy_score: train: \", train_score, \"val: \",val_score\n",
    "    "
   ]
  },
  {
   "cell_type": "code",
   "execution_count": 12,
   "metadata": {},
   "outputs": [
    {
     "name": "stdout",
     "output_type": "stream",
     "text": [
      "16\n",
      "[0.87804878048780488, 0.92987804878048785, 0.94664634146341464, 0.95579268292682928, 0.95579268292682928, 0.94817073170731703, 0.93902439024390238, 0.93902439024390238, 0.93597560975609762, 0.93445121951219512, 0.93445121951219512, 0.93445121951219512, 0.93445121951219512, 0.93445121951219512, 0.93597560975609762, 0.93597560975609762]\n"
     ]
    }
   ],
   "source": [
    "print(len(val_scores))\n",
    "print(val_scores)"
   ]
  },
  {
   "cell_type": "code",
   "execution_count": 13,
   "metadata": {
    "scrolled": true
   },
   "outputs": [
    {
     "data": {
      "text/plain": [
       "[<matplotlib.lines.Line2D at 0x7f017c6990d0>]"
      ]
     },
     "execution_count": 13,
     "metadata": {},
     "output_type": "execute_result"
    },
    {
     "data": {
      "image/png": "[encoded data removed]",
      "text/plain": [
       "<matplotlib.figure.Figure at 0x7f017c6992d0>"
      ]
     },
     "metadata": {},
     "output_type": "display_data"
    }
   ],
   "source": [
    "import matplotlib.pyplot as plt\n",
    "plt.title(\"Validation Curve for LogisticRegression\")\n",
    "plt.xlabel(\"$\\gamma$\")\n",
    "plt.ylabel(\"Accuracy_scores\")\n",
    "plt.ylim(0.0,1.1)\n",
    "\n",
    "plt.semilogx(x_values, train_scores, label=\"Training_accuracies\", color=\"darkorange\")\n",
    "plt.semilogx(x_values, val_scores, label=\"Validation_scores\", color=\"navy\")\n"
   ]
  },
  {
   "cell_type": "code",
   "execution_count": 14,
   "metadata": {},
   "outputs": [
    {
     "name": "stdout",
     "output_type": "stream",
     "text": [
      "Value of C is:  1e-08\n",
      "Value of C is:  1e-07\n",
      "Value of C is:  1e-06\n",
      "Value of C is:  1e-05\n",
      "Value of C is:  0.0001\n",
      "Value of C is:  0.001\n",
      "Value of C is:  0.01\n",
      "Value of C is:  0.1\n",
      "Value of C is:  1\n",
      "Value of C is:  10\n",
      "Value of C is:  100\n",
      "Value of C is:  1000\n",
      "Value of C is:  10000\n",
      "Value of C is:  100000\n",
      "Value of C is:  1000000\n",
      "Value of C is:  10000000\n",
      "Value of C is:  100000000\n",
      "Value of C is:  1000000000\n"
     ]
    },
    {
     "data": {
      "text/plain": [
       "[<matplotlib.lines.Line2D at 0x7f017c4c6fd0>]"
      ]
     },
     "execution_count": 14,
     "metadata": {},
     "output_type": "execute_result"
    },
    {
     "data": {
      "image/png": "[encoded data removed]",
      "text/plain": [
       "<matplotlib.figure.Figure at 0x7f01a4186190>"
      ]
     },
     "metadata": {},
     "output_type": "display_data"
    }
   ],
   "source": [
    "test_scores = []\n",
    "new_x = []\n",
    "\n",
    "for i in range(-8,10):\n",
    "    print \"Value of C is: \", 10**i\n",
    "    \n",
    "    LogReg = linear_model.LogisticRegression(C=10**i)\n",
    "    LogReg.fit(X_train, y_train) \n",
    "    ytest_predict = LogReg.predict(X_test)\n",
    "    \n",
    "    test_score = accuracy_score(y_test, ytest_predict)\n",
    "    new_x.append(10**i)\n",
    "    test_scores.append(test_score)\n",
    "    \n",
    "plt.title(\"Validation Curve for LogisticRegression\")\n",
    "plt.xlabel(\"$\\gamma$\")\n",
    "plt.ylabel(\"Accuracy_scores\")\n",
    "plt.ylim(0.0,1.1)\n",
    "\n",
    "# plt.semilogx(new_x, test_scores, label=\"Testing_accuracies\", color=\"darkorange\")\n"
   ]
  },
  {
   "cell_type": "code",
   "execution_count": 15,
   "metadata": {},
   "outputs": [
    {
     "name": "stdout",
     "output_type": "stream",
     "text": [
      "Value of C is:  1e-10\n",
      "accuracy_score: train:  0.501525940997 val:  0.50762195122\n",
      "Value of C is:  1e-09\n",
      "accuracy_score: train:  0.501525940997 val:  0.50762195122\n",
      "Value of C is:  1e-08\n",
      "accuracy_score: train:  0.501525940997 val:  0.50762195122\n",
      "Value of C is:  1e-07\n",
      "accuracy_score: train:  0.501525940997 val:  0.50762195122\n",
      "Value of C is:  1e-06\n",
      "accuracy_score: train:  0.501525940997 val:  0.50762195122\n",
      "Value of C is:  1e-05\n",
      "accuracy_score: train:  0.501525940997 val:  0.50762195122\n",
      "Value of C is:  0.0001\n",
      "accuracy_score: train:  0.94506612411 val:  0.9375\n",
      "Value of C is:  0.001\n",
      "accuracy_score: train:  0.974567650051 val:  0.952743902439\n",
      "Value of C is:  0.01\n",
      "accuracy_score: train:  0.998474059003 val:  0.943597560976\n",
      "Value of C is:  0.1\n",
      "accuracy_score: train:  1.0 val:  0.943597560976\n",
      "Value of C is:  1\n",
      "accuracy_score: train:  1.0 val:  0.939024390244\n",
      "Value of C is:  10\n",
      "accuracy_score: train:  1.0 val:  0.935975609756\n",
      "Value of C is:  100\n",
      "accuracy_score: train:  1.0 val:  0.935975609756\n",
      "Value of C is:  1000\n",
      "accuracy_score: train:  1.0 val:  0.935975609756\n",
      "Value of C is:  10000\n",
      "accuracy_score: train:  1.0 val:  0.935975609756\n",
      "Value of C is:  100000\n",
      "accuracy_score: train:  1.0 val:  0.935975609756\n"
     ]
    }
   ],
   "source": [
    "x1_values = []\n",
    "y1_values = []\n",
    "train1_scores = []\n",
    "val1_scores = []\n",
    "\n",
    "# Experiments\n",
    "for i in range(-10,6):\n",
    "    print \"Value of C is: \", 10**i\n",
    "    \n",
    "    LogReg = linear_model.LogisticRegression(C=10**i, penalty='l1')\n",
    "    LogReg.fit(X_train, y_train) \n",
    "    yval_predict = LogReg.predict(X_val)\n",
    "    ytrain_predict = LogReg.predict(X_train)\n",
    "\n",
    "    train_score = accuracy_score(y_train, ytrain_predict)\n",
    "    val_score = accuracy_score(y_val, yval_predict)\n",
    "    x1_values.append(10**i)\n",
    "    train1_scores.append(train_score)\n",
    "    val1_scores.append(val_score)\n",
    "    \n",
    "    print \"accuracy_score: train: \", train_score, \"val: \",val_score\n",
    "    "
   ]
  },
  {
   "cell_type": "code",
   "execution_count": 16,
   "metadata": {},
   "outputs": [
    {
     "data": {
      "text/plain": [
       "[<matplotlib.lines.Line2D at 0x7f017c647750>]"
      ]
     },
     "execution_count": 16,
     "metadata": {},
     "output_type": "execute_result"
    },
    {
     "data": {
      "image/png": "[encoded data removed]",
      "text/plain": [
       "<matplotlib.figure.Figure at 0x7f017c6472d0>"
      ]
     },
     "metadata": {},
     "output_type": "display_data"
    }
   ],
   "source": [
    "plt.title(\"Validation Curve for LogisticRegression\")\n",
    "plt.xlabel(\"$\\gamma$\")\n",
    "plt.ylabel(\"Accuracy_scores\")\n",
    "plt.ylim(0.0,1.1)\n",
    "\n",
    "plt.semilogx(x1_values, train1_scores, label=\"Training_accuracies\", color=\"darkorange\")\n",
    "plt.semilogx(x1_values, val1_scores, label=\"Validation_scores\", color=\"navy\")\n"
   ]
  },
  {
   "cell_type": "code",
   "execution_count": 17,
   "metadata": {},
   "outputs": [
    {
     "name": "stdout",
     "output_type": "stream",
     "text": [
      "0.947508896797\n"
     ]
    }
   ],
   "source": [
    "LogReg = linear_model.LogisticRegression(C=10**-2, penalty='l1')\n",
    "LogReg.fit(X_train, y_train)\n",
    "ytest_score = LogReg.predict(X_test)\n",
    "score = accuracy_score(y_test, ytest_score)\n",
    "print(score)"
   ]
  },
  {
   "cell_type": "code",
   "execution_count": 27,
   "metadata": {},
   "outputs": [
    {
     "name": "stdout",
     "output_type": "stream",
     "text": [
      "[[ -2.51448960e-01   5.72721543e-01   4.58160569e-01   7.73988590e-01\n",
      "    3.59572214e-01   7.54188798e-01  -5.86007654e-02  -1.29269997e+00\n",
      "   -8.04793407e-01   4.21793838e-01   9.17284947e-02   2.29382431e-01\n",
      "    5.19154033e-01   1.53300783e+00   1.08165952e+00   1.71060554e-01\n",
      "   -3.95752848e-01  -5.77617299e-01  -1.02820174e+00  -4.28390692e-01\n",
      "    2.91911687e-01   3.58223763e-02  -6.88926813e-03   0.00000000e+00\n",
      "    1.62195773e-02   0.00000000e+00   0.00000000e+00   0.00000000e+00\n",
      "   -1.08533205e-01   1.15442481e-01   4.62531618e-02   2.12433145e-01\n",
      "   -4.50347125e-01  -4.35853056e-01   7.03709662e-01  -1.98081926e-01\n",
      "   -2.89953877e-01  -1.23672792e-01  -9.36382180e-02   5.20063926e-02\n",
      "    1.36687482e-01  -5.79125751e-02  -5.53036465e-02   5.35616175e-02\n",
      "   -4.55046964e-01  -2.50555346e-01   1.49194680e+00   1.15969185e+00\n",
      "   -3.69219314e-01  -2.40980383e-01   5.92574621e-01   9.57421176e-02\n",
      "   -0.00000000e+00   2.53666029e-03   0.00000000e+00   0.00000000e+00\n",
      "   -0.00000000e+00   0.00000000e+00  -8.24180745e-03  -0.00000000e+00\n",
      "   -1.19050179e-01  -1.17301299e+00  -3.61987498e-02  -1.13360793e+00\n",
      "   -7.25299579e-02   0.00000000e+00   9.85348206e-03  -0.00000000e+00\n",
      "   -0.00000000e+00   0.00000000e+00   0.00000000e+00  -0.00000000e+00\n",
      "    0.00000000e+00   1.62233001e-03   0.00000000e+00  -3.16920640e-02\n",
      "    9.96337877e-02   4.13019145e-02   2.18079411e-01  -1.72831706e-01\n",
      "    4.01171575e-01   0.00000000e+00   4.26771153e-03  -0.00000000e+00\n",
      "   -7.02411419e-03   1.15897672e-02   6.59879739e-03   0.00000000e+00\n",
      "    1.06901489e-01   7.15512551e-02  -2.16997345e-01   5.79665940e-01\n",
      "    5.10268604e-01   0.00000000e+00   2.36333931e-02  -1.56062453e-03\n",
      "    3.72376333e-03   4.01000169e-03   8.41596946e-03   4.57382018e-03\n",
      "   -8.35271053e-03  -1.49005758e-02  -6.61089736e-03   0.00000000e+00\n",
      "    2.36792590e-02   1.63247446e-01   1.20687760e+00   9.55590028e-01\n",
      "    4.70929594e-01   4.30497758e-01   0.00000000e+00  -2.65179504e-03\n",
      "   -0.00000000e+00  -0.00000000e+00   1.98696052e-03   0.00000000e+00\n",
      "   -5.94251672e-02   7.49340258e-01   1.41338425e+00  -9.38772737e-02\n",
      "   -2.63475731e-01  -0.00000000e+00   4.94496826e-03   0.00000000e+00\n",
      "   -0.00000000e+00  -0.00000000e+00  -0.00000000e+00  -0.00000000e+00\n",
      "   -0.00000000e+00  -0.00000000e+00   0.00000000e+00  -2.75920829e-04\n",
      "   -0.00000000e+00  -2.62323002e-01   6.76322925e-01  -4.71107300e-02\n",
      "   -9.88481057e-01   3.21205372e-01   0.00000000e+00  -0.00000000e+00\n",
      "   -0.00000000e+00  -0.00000000e+00   4.96860253e-04   0.00000000e+00\n",
      "   -5.35450935e-02  -8.36698111e-01  -1.26232490e+00  -6.08614793e-01\n",
      "    2.93736333e-01  -0.00000000e+00   1.75757977e-02   0.00000000e+00\n",
      "   -0.00000000e+00   0.00000000e+00  -0.00000000e+00   0.00000000e+00\n",
      "    0.00000000e+00   0.00000000e+00   0.00000000e+00  -0.00000000e+00\n",
      "   -0.00000000e+00  -6.89139299e-03  -9.83339271e-02  -1.73381228e-01\n",
      "   -2.97601282e-01  -1.36884442e+00  -9.86445664e-02  -0.00000000e+00\n",
      "    0.00000000e+00   0.00000000e+00   1.42583826e-03   0.00000000e+00\n",
      "    6.95183392e-02  -2.03869014e-01  -1.41292455e+00  -7.96272692e-01\n",
      "    2.92205096e-01  -0.00000000e+00   5.79054406e-04  -0.00000000e+00\n",
      "    0.00000000e+00   0.00000000e+00   0.00000000e+00  -0.00000000e+00\n",
      "    0.00000000e+00   0.00000000e+00   0.00000000e+00  -0.00000000e+00\n",
      "    0.00000000e+00   0.00000000e+00   1.68514576e-01   4.26311882e-02\n",
      "    7.03589317e-01   2.77312334e-01  -4.16733609e-01  -0.00000000e+00\n",
      "   -0.00000000e+00  -0.00000000e+00   3.90845070e-03   0.00000000e+00\n",
      "    1.00765447e-01  -7.11259862e-02  -8.50023003e-01  -5.36618130e-01\n",
      "   -1.15104775e-01   0.00000000e+00  -7.05382056e-03  -0.00000000e+00\n",
      "   -0.00000000e+00   0.00000000e+00  -0.00000000e+00  -0.00000000e+00\n",
      "   -0.00000000e+00  -0.00000000e+00  -0.00000000e+00  -0.00000000e+00\n",
      "    0.00000000e+00   0.00000000e+00  -4.14213243e-01  -2.06767834e+00\n",
      "    4.95270956e-01  -6.67361824e-01  -1.05817516e-01   0.00000000e+00\n",
      "   -0.00000000e+00  -0.00000000e+00   5.79942431e-04   0.00000000e+00\n",
      "   -1.76736420e-03   2.09668220e-01  -3.26630376e-01  -3.95433500e-01\n",
      "   -2.77518656e-02  -0.00000000e+00  -2.65885200e-03   0.00000000e+00\n",
      "   -0.00000000e+00  -0.00000000e+00   0.00000000e+00   0.00000000e+00\n",
      "   -0.00000000e+00   0.00000000e+00   0.00000000e+00   3.02821341e-03\n",
      "    0.00000000e+00  -1.25301212e-02   8.56714004e-03  -1.00022261e+00\n",
      "   -1.31824401e+00  -2.52083778e-02   1.15054404e-02  -0.00000000e+00\n",
      "    0.00000000e+00   0.00000000e+00   7.47835017e-03   0.00000000e+00\n",
      "   -4.51625983e-04   1.07217782e+00   1.06996823e+00   8.97000422e-02\n",
      "   -1.32157636e-02   0.00000000e+00   1.82873923e-02   0.00000000e+00\n",
      "   -0.00000000e+00  -0.00000000e+00  -0.00000000e+00   0.00000000e+00\n",
      "   -0.00000000e+00   0.00000000e+00  -7.26108511e-04  -5.23383730e-02\n",
      "    0.00000000e+00   3.57998068e-01  -5.74604848e-01   7.47504953e-01\n",
      "   -2.31206312e-01   2.58144354e-01  -0.00000000e+00  -5.15501131e-03\n",
      "    0.00000000e+00  -0.00000000e+00   4.77090824e-03  -0.00000000e+00\n",
      "    3.40550983e-03   5.67258795e-01   4.39747458e-01   1.21129810e-02\n",
      "   -2.11153425e-02   0.00000000e+00   2.32150953e-02   3.06820268e-03\n",
      "    4.55736099e-04   2.62033370e-03  -1.01686715e-02  -1.16596468e-02\n",
      "   -6.83369952e-03  -7.89461755e-04  -6.30056680e-03   0.00000000e+00\n",
      "   -1.29060245e-01   4.07689748e-01  -2.52625465e+00  -6.52019035e-01\n",
      "    1.86920043e-01  -0.00000000e+00  -3.27671246e-03   0.00000000e+00\n",
      "    0.00000000e+00  -0.00000000e+00  -1.49690392e-04  -0.00000000e+00\n",
      "    1.92729351e-03   3.69601995e-03  -8.40569652e-02  -2.33114149e-01\n",
      "   -1.29632170e-01  -0.00000000e+00   1.25077260e-02   0.00000000e+00\n",
      "   -0.00000000e+00   0.00000000e+00  -0.00000000e+00  -0.00000000e+00\n",
      "    0.00000000e+00   0.00000000e+00   2.77757430e-03  -5.91165624e-01\n",
      "   -9.57901788e-01   6.37719438e-01  -9.86582907e-01  -5.17517075e-02\n",
      "    0.00000000e+00   8.29673012e-03   0.00000000e+00  -0.00000000e+00\n",
      "    0.00000000e+00  -0.00000000e+00  -2.34076925e-03  -0.00000000e+00\n",
      "    9.54278251e-03  -6.29837056e-01  -2.56082255e-01  -9.86937298e-01\n",
      "    3.33946411e-01  -6.04415689e-02  -3.72877584e-01  -4.21822756e-01\n",
      "   -6.66948031e-04   2.84576474e-02  -3.04397008e-02  -1.17905323e-01\n",
      "    7.21572913e-01   1.13666633e+00   4.03404300e-01   1.49770973e-01\n",
      "    5.44716520e-02  -4.23165196e-01   6.99246557e-03  -0.00000000e+00\n",
      "   -1.43179588e-02  -0.00000000e+00   0.00000000e+00   0.00000000e+00\n",
      "    0.00000000e+00  -0.00000000e+00  -1.30924009e-02   0.00000000e+00\n",
      "    9.03462976e-02  -4.71820462e-01  -3.30637596e-01  -3.95076047e-01\n",
      "    7.79823748e-01   1.17170972e+00  -6.52868071e-02  -7.79530958e-01\n",
      "    2.50739370e-01   3.59032588e-01   2.32880965e-01  -1.86546204e+00\n",
      "   -8.54554045e-01   5.59448394e-01   1.68418330e-01   1.37605411e+00\n",
      "    8.16218763e-02  -1.90653745e-01   6.33956041e-02   0.00000000e+00\n",
      "   -0.00000000e+00   5.20441892e-03   8.89893911e-03   0.00000000e+00\n",
      "    0.00000000e+00  -0.00000000e+00  -9.48827172e-03   0.00000000e+00\n",
      "   -1.18475912e-02  -1.78367387e-01   2.16534579e+00   1.07021041e+00\n",
      "   -3.26670446e-02   0.00000000e+00   5.23823055e-02  -5.61191466e-02\n",
      "   -6.08871694e-02   5.69580720e-02   2.82803330e-02  -1.27062467e-01\n",
      "   -1.63648153e-01   5.31077490e-03   3.49393280e-01  -2.34677074e-01\n",
      "   -1.01194591e-01  -7.31784442e-01   1.70350874e-01  -1.67476725e-01\n",
      "   -3.19061402e-01  -0.00000000e+00   1.10853147e-02   3.68471539e-03\n",
      "   -0.00000000e+00  -0.00000000e+00   9.30474397e-03  -0.00000000e+00\n",
      "   -5.74487832e-02   1.78151687e-01   1.18409468e+00   1.08023567e+00\n",
      "   -2.12352509e-01  -0.00000000e+00  -1.42686079e-02  -0.00000000e+00\n",
      "   -0.00000000e+00   0.00000000e+00   0.00000000e+00  -0.00000000e+00\n",
      "    0.00000000e+00   0.00000000e+00   1.19887462e-03  -0.00000000e+00\n",
      "    1.50071795e-02   1.80670427e-01  -4.36677328e-01  -1.63834365e+00\n",
      "   -2.36519851e+00  -2.69788076e-01   0.00000000e+00  -2.31946043e-03\n",
      "   -0.00000000e+00  -0.00000000e+00   4.23280858e-03  -0.00000000e+00\n",
      "    4.13870237e-02  -8.30120031e-02   6.55472199e-01  -1.01292169e+00\n",
      "   -4.50091487e-01  -0.00000000e+00   4.85038002e-03   4.66498738e-05\n",
      "    3.98750640e-03  -2.28884047e-04  -4.65172927e-03  -4.33390857e-03\n",
      "    4.89331419e-03  -1.37798539e-03   4.28048080e-03   2.45404188e-03\n",
      "   -1.59950624e-02   0.00000000e+00  -8.46240788e-01  -8.77995499e-01\n",
      "    1.06146332e-01   6.66853537e-01  -6.27002279e-01  -0.00000000e+00\n",
      "    0.00000000e+00  -0.00000000e+00   6.99955611e-03   0.00000000e+00\n",
      "    5.30927740e-02  -1.46720324e-01   1.14131946e+00  -2.32941978e+00\n",
      "   -4.34022794e-01  -0.00000000e+00   1.82576997e-03   0.00000000e+00\n",
      "    0.00000000e+00   0.00000000e+00   0.00000000e+00   0.00000000e+00\n",
      "    0.00000000e+00   0.00000000e+00   0.00000000e+00   0.00000000e+00\n",
      "   -6.24083967e-03  -9.98045894e-03  -0.00000000e+00  -4.64162559e-01\n",
      "   -7.11802167e-01   2.01847301e-01  -1.25818550e+00  -3.94249290e-01\n",
      "    0.00000000e+00  -0.00000000e+00   7.53944644e-03   0.00000000e+00\n",
      "    3.57957384e-02   1.63841759e-01   5.44080119e-01  -1.86519326e+00\n",
      "    4.38952993e-03   0.00000000e+00   4.61549669e-03   0.00000000e+00\n",
      "   -0.00000000e+00  -0.00000000e+00   0.00000000e+00  -0.00000000e+00\n",
      "   -0.00000000e+00  -0.00000000e+00  -0.00000000e+00  -0.00000000e+00\n",
      "   -0.00000000e+00  -1.52825807e-02  -0.00000000e+00   6.69132363e-02\n",
      "   -1.69899350e-01   2.03890642e-01  -1.27632681e+00  -7.00010663e-01\n",
      "    0.00000000e+00   0.00000000e+00   6.65528939e-04   0.00000000e+00\n",
      "   -6.33124971e-02   5.63655411e-02   1.18874794e+00   1.28456698e-01\n",
      "    7.00326044e-01   0.00000000e+00   1.66674504e-02   0.00000000e+00\n",
      "   -0.00000000e+00  -0.00000000e+00   0.00000000e+00   0.00000000e+00\n",
      "   -0.00000000e+00  -0.00000000e+00   0.00000000e+00  -0.00000000e+00\n",
      "   -0.00000000e+00   1.00147685e-03   0.00000000e+00   1.87512291e-01\n",
      "    7.76150235e-02  -1.18301119e+00   1.74535920e-01  -1.24925964e+00\n",
      "    0.00000000e+00   0.00000000e+00   2.65253282e-03  -0.00000000e+00\n",
      "   -1.33805264e-01  -9.48437069e-01  -4.87583612e-01  -2.42716622e-01\n",
      "    1.16153880e-01  -0.00000000e+00   8.15043821e-03   0.00000000e+00\n",
      "    0.00000000e+00   0.00000000e+00   0.00000000e+00   0.00000000e+00\n",
      "   -0.00000000e+00  -0.00000000e+00   0.00000000e+00   0.00000000e+00\n",
      "    0.00000000e+00   2.67208082e-04  -0.00000000e+00  -1.95141523e-02\n",
      "    5.59169793e-01  -1.70480830e+00  -3.69421697e-01   1.97297252e-02\n",
      "    0.00000000e+00   0.00000000e+00  -5.84978749e-03  -0.00000000e+00\n",
      "    4.82458990e-02   5.85329024e-02   3.49555139e-02   4.08307030e-01\n",
      "    3.83733582e-01   0.00000000e+00   5.27497726e-03   0.00000000e+00\n",
      "    0.00000000e+00   0.00000000e+00   0.00000000e+00   0.00000000e+00\n",
      "   -0.00000000e+00  -0.00000000e+00  -0.00000000e+00   0.00000000e+00\n",
      "    0.00000000e+00   3.38578705e-03  -0.00000000e+00  -3.62285980e-02\n",
      "   -6.15933043e-01  -3.48398835e-01   1.54370361e+00  -6.28260642e-01\n",
      "   -0.00000000e+00  -0.00000000e+00  -4.95471272e-03   0.00000000e+00\n",
      "    1.56009927e-02  -1.06356770e+00   5.39690956e-01   1.38287358e+00\n",
      "    8.10432951e-01  -0.00000000e+00   1.01587437e-02   0.00000000e+00\n",
      "   -0.00000000e+00  -0.00000000e+00  -0.00000000e+00   0.00000000e+00\n",
      "    0.00000000e+00  -0.00000000e+00  -0.00000000e+00   0.00000000e+00\n",
      "    0.00000000e+00   1.41412199e-02   0.00000000e+00   3.76896328e-02\n",
      "   -6.38570143e-01   3.98500653e-01   1.59774141e+00  -9.55730576e-01\n",
      "   -0.00000000e+00  -0.00000000e+00  -5.72976782e-03   0.00000000e+00\n",
      "    7.40728326e-03  -1.24255916e+00   7.57400071e-01   8.01537877e-01\n",
      "    1.66865578e-01  -0.00000000e+00  -1.79446456e-02  -0.00000000e+00\n",
      "   -0.00000000e+00   0.00000000e+00  -0.00000000e+00   0.00000000e+00\n",
      "   -0.00000000e+00  -0.00000000e+00   0.00000000e+00  -0.00000000e+00\n",
      "    3.44615206e-04  -1.11973802e-02   0.00000000e+00   1.12962243e-01\n",
      "    6.44089648e-01  -4.36856263e-01   2.75514350e-01  -2.55811715e-01\n",
      "   -7.31058025e-03   1.65558800e-02  -9.47953383e-03  -0.00000000e+00\n",
      "    1.37880873e-01  -9.09026075e-02  -3.21735209e-01   1.11834862e-01\n",
      "   -9.34686106e-02  -0.00000000e+00  -1.84403139e-03  -1.11268454e-02\n",
      "    7.42414110e-03   9.28769676e-03   2.88913042e-03   1.11659706e-03\n",
      "    1.06414361e-03   9.16369324e-03  -8.71702194e-04   2.34841545e-03\n",
      "    2.84450661e-03   0.00000000e+00   3.15838951e-02   1.12879466e+00\n",
      "   -8.03215472e-01  -1.97107586e+00  -3.16276486e-01  -0.00000000e+00\n",
      "   -0.00000000e+00   0.00000000e+00   2.30543188e-03   0.00000000e+00\n",
      "    6.76871596e-02  -2.71690899e-01   7.34583653e-01   1.71102563e-01\n",
      "    2.15241675e-02  -0.00000000e+00  -4.03216786e-03  -0.00000000e+00\n",
      "   -0.00000000e+00  -0.00000000e+00  -0.00000000e+00   0.00000000e+00\n",
      "    0.00000000e+00   0.00000000e+00   0.00000000e+00  -0.00000000e+00\n",
      "   -1.89209681e-03   6.45062856e-01   8.36125774e-01   1.10378543e-01\n",
      "    2.87217835e-01  -1.61239505e-02   0.00000000e+00   2.56097874e-03\n",
      "   -1.24637252e-01  -3.11342660e-03  -5.93929262e-02   2.40356520e-02\n",
      "   -7.16246775e-06  -2.67387447e-01  -1.24081320e+00  -1.05242920e-01\n",
      "    1.13352239e+00   5.66441530e-01   6.11391465e-02  -2.71294044e-01\n",
      "    9.21715627e-02  -9.67004896e-03   3.59525101e-02  -1.24942179e-01\n",
      "   -2.52279567e-01   4.78429614e-02  -7.28967836e-02  -1.00832515e-01\n",
      "    4.37546329e-01  -2.63394835e-01  -4.24287478e-01   3.40482856e-01\n",
      "    6.50453158e-02  -0.00000000e+00   6.39013158e-03   0.00000000e+00\n",
      "   -1.05735888e+00  -2.35183248e+00  -1.07499690e+00   6.29255811e-02\n",
      "   -3.70384019e-01   2.24826460e-01  -8.43502015e-01  -7.38549731e-01\n",
      "    1.33503083e-01   1.13304323e+00   1.74771926e+00   1.26567422e+00\n",
      "    4.45701138e-01  -1.28354027e-01  -9.97471074e-01  -1.67580451e+00\n",
      "   -9.28888543e-01   1.07651749e+00   1.22166870e+00   8.98920156e-01\n",
      "    5.05228340e-01   2.12733641e-01   1.52825784e-01   7.42143800e-03\n",
      "    0.00000000e+00   6.17422871e-03   0.00000000e+00   0.00000000e+00]]\n",
      "(784,)\n",
      "Sparsity with L1 penalty: 0.00%\n"
     ]
    },
    {
     "data": {
      "text/plain": [
       "<matplotlib.image.AxesImage at 0x7f017bf2f850>"
      ]
     },
     "execution_count": 27,
     "metadata": {},
     "output_type": "execute_result"
    },
    {
     "data": {
      "image/png": "[encoded data removed]",
      "text/plain": [
       "<matplotlib.figure.Figure at 0x7f017c512250>"
      ]
     },
     "metadata": {},
     "output_type": "display_data"
    }
   ],
   "source": [
    "vis = LogReg.coef_ * X_test[0,:]\n",
    "print vis.shape\n",
    "coef_l1_LR = LogReg.coef_.ravel()\n",
    "print coef_l1_LR.shape\n",
    "sparsity_l1_LR = np.mean(coef_l1_LR == 0) * 100\n",
    "\n",
    "print(\"Sparsity with L1 penalty: %.2f%%\" % sparsity_l1_LR)\n",
    "plt.imshow(np.abs(vis.reshape(28, 28)), interpolation='nearest',\n",
    "                   cmap='binary', vmax=1, vmin=0)\n",
    "# plt.show()"
   ]
  },
  {
   "cell_type": "code",
   "execution_count": 20,
   "metadata": {},
   "outputs": [
    {
     "name": "stdout",
     "output_type": "stream",
     "text": [
      "0.943060498221\n"
     ]
    }
   ],
   "source": [
    "LogReg = linear_model.LogisticRegression(C=10**-3, penalty='l2')\n",
    "LogReg.fit(X_train, y_train)\n",
    "ytest_score = LogReg.predict(X_test)\n",
    "score = accuracy_score(y_test, ytest_score)\n",
    "print(score)"
   ]
  },
  {
   "cell_type": "code",
   "execution_count": 21,
   "metadata": {},
   "outputs": [
    {
     "name": "stdout",
     "output_type": "stream",
     "text": [
      "Sparsity with L2 penalty: 37.88%\n"
     ]
    },
    {
     "data": {
      "text/plain": [
       "<matplotlib.image.AxesImage at 0x7f017c160450>"
      ]
     },
     "execution_count": 21,
     "metadata": {},
     "output_type": "execute_result"
    },
    {
     "data": {
      "image/png": "[encoded data removed]",
      "text/plain": [
       "<matplotlib.figure.Figure at 0x7f017c512e90>"
      ]
     },
     "metadata": {},
     "output_type": "display_data"
    }
   ],
   "source": [
    "vis_l2 = LogReg.coef_ * X_test[0,:]\n",
    "sparsity_l2_LR = np.mean(vis_l2 == 0) * 100\n",
    "\n",
    "print(\"Sparsity with L2 penalty: %.2f%%\" % sparsity_l2_LR)\n",
    "plt.imshow(np.abs(vis_l2.reshape(28, 28)), interpolation='nearest',\n",
    "                   cmap='binary', vmax=1, vmin=0)"
   ]
  },
  {
   "cell_type": "code",
   "execution_count": null,
   "metadata": {},
   "outputs": [],
   "source": []
  },
  {
   "cell_type": "code",
   "execution_count": null,
   "metadata": {},
   "outputs": [],
   "source": []
  },
  {
   "cell_type": "code",
   "execution_count": null,
   "metadata": {},
   "outputs": [],
   "source": []
  },
  {
   "cell_type": "code",
   "execution_count": null,
   "metadata": {},
   "outputs": [],
   "source": []
  },
  {
   "cell_type": "code",
   "execution_count": null,
   "metadata": {},
   "outputs": [],
   "source": []
  },
  {
   "cell_type": "code",
   "execution_count": null,
   "metadata": {},
   "outputs": [],
   "source": []
  },
  {
   "cell_type": "code",
   "execution_count": null,
   "metadata": {},
   "outputs": [],
   "source": []
  }
 ],
 "metadata": {
  "anaconda-cloud": {},
  "kernelspec": {
   "display_name": "Python 2",
   "language": "python",
   "name": "python2"
  },
  "language_info": {
   "codemirror_mode": {
    "name": "ipython",
    "version": 2
   },
   "file_extension": ".py",
   "mimetype": "text/x-python",
   "name": "python",
   "nbconvert_exporter": "python",
   "pygments_lexer": "ipython2",
   "version": "2.7.12"
  }
 },
 "nbformat": 4,
 "nbformat_minor": 2
}
