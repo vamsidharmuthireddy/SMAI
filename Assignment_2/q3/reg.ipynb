{
 "cells": [
  {
   "cell_type": "code",
   "execution_count": 1,
   "metadata": {},
   "outputs": [],
   "source": [
    "%matplotlib inline"
   ]
  },
  {
   "cell_type": "code",
   "execution_count": 1,
   "metadata": {},
   "outputs": [],
   "source": [
    "from numpy import genfromtxt\n",
    "from sklearn import linear_model\n",
    "from sklearn.metrics import accuracy_score, precision_score, recall_score, f1_score\n",
    "import numpy as np\n",
    "from random import randint\n",
    "import PIL.Image\n",
    "from cStringIO import StringIO\n",
    "import IPython.display"
   ]
  },
  {
   "cell_type": "code",
   "execution_count": 2,
   "metadata": {},
   "outputs": [],
   "source": [
    "def calculate_accuracy(predictions, labels):\n",
    "    \"\"\"\n",
    "    Function to calculate the accuracy for a given set of predictions and\n",
    "    corresponding labels.\n",
    "\n",
    "    Parameters\n",
    "    ----------\n",
    "    predictions: The predictions obtained as output from the SVM classifier\n",
    "    labels: The true label values corresponding to the entries in predictions\n",
    "\n",
    "    Returns\n",
    "    -------\n",
    "    accuracy: Fraction of total samples that have correct predictions (same as\n",
    "    true label)\n",
    "\n",
    "    \"\"\"\n",
    "    return accuracy_score(labels, predictions)"
   ]
  },
  {
   "cell_type": "code",
   "execution_count": 3,
   "metadata": {},
   "outputs": [],
   "source": [
    "X_train = genfromtxt('notMNIST_train_data.csv', delimiter=',')\n",
    "y_train = genfromtxt('notMNIST_train_labels.csv', delimiter=',')\n",
    "X_test = genfromtxt('notMNIST_test_data.csv', delimiter=',')\n",
    "y_test = genfromtxt('notMNIST_test_labels.csv', delimiter=',')\n",
    "# print X_train.shape"
   ]
  },
  {
   "cell_type": "code",
   "execution_count": 30,
   "metadata": {},
   "outputs": [
    {
     "name": "stdout",
     "output_type": "stream",
     "text": [
      "0.934163701068\n"
     ]
    }
   ],
   "source": [
    "logreg = linear_model.LogisticRegression(C=10000)\n",
    "\n",
    "# we create an instance of Neighbours Classifier and fit the data.\n",
    "logreg.fit(X_train, y_train)\n",
    "y_pred = logreg.predict(X_test)\n",
    "accuracy = calculate_accuracy(y_pred,y_test)\n",
    "print accuracy"
   ]
  },
  {
   "cell_type": "code",
   "execution_count": 7,
   "metadata": {},
   "outputs": [],
   "source": [
    "def showarray(a, fmt='png'):\n",
    "    a = np.uint8(a)\n",
    "    f = StringIO()\n",
    "    PIL.Image.fromarray(a).save(f, fmt)\n",
    "    IPython.display.display(IPython.display.Image(data=f.getvalue()))"
   ]
  },
  {
   "cell_type": "code",
   "execution_count": 10,
   "metadata": {
    "scrolled": true
   },
   "outputs": [
    {
     "name": "stdout",
     "output_type": "stream",
     "text": [
      "1.0\n"
     ]
    },
    {
     "data": {
      "image/png": "[encoded data removed]",
      "text/plain": [
       "<IPython.core.display.Image object>"
      ]
     },
     "metadata": {},
     "output_type": "display_data"
    }
   ],
   "source": [
    "n = randint(1, 1000)\n",
    "label = y_test[n]\n",
    "im = X_test[n, :].reshape((28, 28))\n",
    "print(label)\n",
    "showarray(im)"
   ]
  },
  {
   "cell_type": "code",
   "execution_count": null,
   "metadata": {},
   "outputs": [],
   "source": []
  },
  {
   "cell_type": "code",
   "execution_count": null,
   "metadata": {},
   "outputs": [],
   "source": []
  }
 ],
 "metadata": {
  "kernelspec": {
   "display_name": "Python 2",
   "language": "python",
   "name": "python2"
  },
  "language_info": {
   "codemirror_mode": {
    "name": "ipython",
    "version": 2
   },
   "file_extension": ".py",
   "mimetype": "text/x-python",
   "name": "python",
   "nbconvert_exporter": "python",
   "pygments_lexer": "ipython2",
   "version": "2.7.12"
  }
 },
 "nbformat": 4,
 "nbformat_minor": 2
}
