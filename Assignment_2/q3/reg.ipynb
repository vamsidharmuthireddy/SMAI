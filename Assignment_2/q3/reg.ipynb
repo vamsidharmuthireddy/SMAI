{
 "cells": [
  {
   "cell_type": "code",
   "execution_count": 1,
   "metadata": {},
   "outputs": [],
   "source": [
    "%matplotlib inline"
   ]
  },
  {
   "cell_type": "code",
   "execution_count": 2,
   "metadata": {},
   "outputs": [],
   "source": [
    "from numpy import genfromtxt\n",
    "from sklearn import linear_model\n",
    "from sklearn.metrics import accuracy_score, precision_score, confusion_matrix, recall_score, f1_score\n",
    "from sklearn.model_selection import train_test_split\n",
    "import matplotlib.pyplot as plt\n",
    "import numpy as np\n",
    "from random import randint\n",
    "import PIL.Image\n",
    "from cStringIO import StringIO\n",
    "import IPython.display"
   ]
  },
  {
   "cell_type": "code",
   "execution_count": 3,
   "metadata": {},
   "outputs": [],
   "source": [
    "X_train = genfromtxt('notMNIST_train_data.csv', delimiter=',')\n",
    "Y_train = genfromtxt('notMNIST_train_labels.csv', delimiter=',')\n",
    "X_test = genfromtxt('notMNIST_test_data.csv', delimiter=',')\n",
    "Y_test = genfromtxt('notMNIST_test_labels.csv', delimiter=',')\n",
    "# print X_train.shape"
   ]
  },
  {
   "cell_type": "code",
   "execution_count": 4,
   "metadata": {},
   "outputs": [],
   "source": [
    "def showarray(a, fmt='png'):\n",
    "    a = np.uint8(a)\n",
    "    f = StringIO()\n",
    "    PIL.Image.fromarray(a).save(f, fmt)\n",
    "    IPython.display.display(IPython.display.Image(data=f.getvalue()))"
   ]
  },
  {
   "cell_type": "code",
   "execution_count": 5,
   "metadata": {},
   "outputs": [
    {
     "name": "stdout",
     "output_type": "stream",
     "text": [
      "0.0\n"
     ]
    },
    {
     "data": {
      "image/png": "[encoded data removed]",
      "text/plain": [
       "<IPython.core.display.Image object>"
      ]
     },
     "metadata": {},
     "output_type": "display_data"
    }
   ],
   "source": [
    "n = randint(1, 1000)\n",
    "# n=10\n",
    "label = Y_test[n]\n",
    "im = X_test[n, :].reshape((28, 28))\n",
    "print(label)\n",
    "showarray(im)"
   ]
  },
  {
   "cell_type": "code",
   "execution_count": 6,
   "metadata": {},
   "outputs": [
    {
     "name": "stdout",
     "output_type": "stream",
     "text": [
      "<type 'numpy.ndarray'>\n",
      "(2622, 784)\n",
      "(1124, 784)\n"
     ]
    }
   ],
   "source": [
    "print(type(X_train))\n",
    "print(X_train.shape)\n",
    "print(X_test.shape)"
   ]
  },
  {
   "cell_type": "code",
   "execution_count": 7,
   "metadata": {},
   "outputs": [
    {
     "data": {
      "text/plain": [
       "LogisticRegression(C=1.0, class_weight=None, dual=False, fit_intercept=True,\n",
       "          intercept_scaling=1, max_iter=100, multi_class='ovr', n_jobs=1,\n",
       "          penalty='l2', random_state=None, solver='liblinear', tol=0.0001,\n",
       "          verbose=0, warm_start=False)"
      ]
     },
     "execution_count": 7,
     "metadata": {},
     "output_type": "execute_result"
    }
   ],
   "source": [
    "logreg = linear_model.LogisticRegression()\n",
    "\n",
    "# we create an instance of Neighbours Classifier and fit the data.\n",
    "logreg.fit(X_train, Y_train)"
   ]
  },
  {
   "cell_type": "code",
   "execution_count": 8,
   "metadata": {},
   "outputs": [
    {
     "name": "stdout",
     "output_type": "stream",
     "text": [
      "('F1_score: ', 0.93766461808604051)\n",
      "0.936832740214\n"
     ]
    }
   ],
   "source": [
    "Y_pred = logreg.predict(X_test)\n",
    "\n",
    "X_train, X_val, Y_train, Y_val = train_test_split(X_train, Y_train, test_size=0.25, random_state=42)\n",
    "\n",
    "f1 = f1_score(Y_test, Y_pred)\n",
    "print(\"F1_score: \", f1)\n",
    "\n",
    "accuracy = accuracy_score(Y_test, Y_pred)\n",
    "print accuracy"
   ]
  },
  {
   "cell_type": "code",
   "execution_count": 38,
   "metadata": {},
   "outputs": [
    {
     "name": "stdout",
     "output_type": "stream",
     "text": [
      "accuracy_score: train: 1.000000 val: 0.939024\n",
      "best_C: train: 1.000000 val: 0.001000\n"
     ]
    },
    {
     "data": {
      "image/png": "[encoded data removed]",
      "text/plain": [
       "<matplotlib.figure.Figure at 0x7fba884b6b50>"
      ]
     },
     "metadata": {},
     "output_type": "display_data"
    }
   ],
   "source": [
    "# Experiments\n",
    "x_values = []\n",
    "y_values = []\n",
    "train_scores_l2 = []\n",
    "val_scores_l2 = []\n",
    "\n",
    "C_count = 1000.0\n",
    "\n",
    "for i in range(1,int(C_count)+1):\n",
    "    C = i/(C_count)\n",
    "#     print \"Value of C is: \", C\n",
    "    \n",
    "    LogReg = linear_model.LogisticRegression(C=C)\n",
    "    LogReg.fit(X_train, Y_train) \n",
    "    Yval_predict = LogReg.predict(X_val)\n",
    "    Ytrain_predict = LogReg.predict(X_train)\n",
    "\n",
    "    train_score = accuracy_score(Y_train, Ytrain_predict)\n",
    "    val_score = accuracy_score(Y_val, Yval_predict)\n",
    "    x_values.append(C)\n",
    "    train_scores_l2.append(train_score)\n",
    "    val_scores_l2.append(val_score)\n",
    "    \n",
    "    vis = LogReg.coef_ * X_val[0,:]\n",
    "    coef_l1_LR = LogReg.coef_.ravel()\n",
    "    plt.imshow(np.abs(vis.reshape(28, 28)), interpolation='nearest', cmap='binary', vmax=1, vmin=0)\n",
    "    save_name = 'l2/activation_val_'+str(C) +'.png'\n",
    "    plt.savefig(save_name)\n",
    "    \n",
    "#     print \"C: \", C, \" accuracy_score: train: \", train_score, \"val: \",val_score\n",
    "\n",
    "\n",
    "max_train_accuracy_l2 = max(train_scores_l2)\n",
    "max_train_accuracy_indices = [i for i, x in enumerate(train_scores_l2) if x == max_train_accuracy_l2]\n",
    "max_train_accuracy_index = max_train_accuracy_indices[-1]\n",
    "best_train_C_l2 = (max_train_accuracy_index + 1) / C_count\n",
    "\n",
    "max_val_accuracy_l2 = max(val_scores_l2)\n",
    "max_val_accuracy_indices = [i for i, x in enumerate(val_scores_l2) if x == max_val_accuracy_l2]\n",
    "max_val_accuracy_index = max_val_accuracy_indices[-1]\n",
    "best_val_C_l2 = (max_val_accuracy_index + 1) / C_count\n",
    "print \"accuracy_score: train: %f val: %f\" % (max_train_accuracy_l2, max_val_accuracy_l2)\n",
    "print \"best_C: train: %f val: %f\" % (best_train_C_l2, best_val_C_l2)"
   ]
  },
  {
   "cell_type": "code",
   "execution_count": 39,
   "metadata": {},
   "outputs": [
    {
     "data": {
      "image/png": "[encoded data removed]",
      "text/plain": [
       "<matplotlib.figure.Figure at 0x7fba878172d0>"
      ]
     },
     "metadata": {},
     "output_type": "display_data"
    }
   ],
   "source": [
    "# print val_scores_l2\n",
    "# print x_values\n",
    "plt.title(\"Validation Curve for LogisticRegression\")\n",
    "plt.xlabel(\"$\\lambda$\")\n",
    "plt.ylabel(\"Accuracy Scores\")\n",
    "plt.ylim(0.0,1.1)\n",
    "plt.xlim(0.0,1.01)\n",
    "plt.plot(x_values, train_scores_l2, label=\"Training_accuracies\", color=\"darkorange\")\n",
    "plt.plot(x_values, val_scores_l2, label=\"val_accuracies\", color=\"navy\")\n",
    "plt.savefig(\"l2_accuracies.png\")"
   ]
  },
  {
   "cell_type": "code",
   "execution_count": 40,
   "metadata": {},
   "outputs": [
    {
     "name": "stdout",
     "output_type": "stream",
     "text": [
      "accuracy_score: train: 1.000000 val: 0.954268\n",
      "best_C: train: 1.000000 val: 0.002000\n"
     ]
    },
    {
     "data": {
      "image/png": "[encoded data removed]",
      "text/plain": [
       "<matplotlib.figure.Figure at 0x7fba88dc3a10>"
      ]
     },
     "metadata": {},
     "output_type": "display_data"
    }
   ],
   "source": [
    "# Experiments\n",
    "x_values = []\n",
    "y_values = []\n",
    "train_scores_l1 = []\n",
    "val_scores_l1 = []\n",
    "\n",
    "# C_count = 1000.0\n",
    "\n",
    "for i in range(1,int(C_count)+1):\n",
    "    C = i/(C_count)\n",
    "#     print \"Value of C is: \", C\n",
    "    \n",
    "    LogReg = linear_model.LogisticRegression(C=C, penalty='l1')\n",
    "    LogReg.fit(X_train, Y_train) \n",
    "    Yval_predict = LogReg.predict(X_val)\n",
    "    Ytrain_predict = LogReg.predict(X_train)\n",
    "\n",
    "    train_score = accuracy_score(Y_train, Ytrain_predict)\n",
    "    val_score = accuracy_score(Y_val, Yval_predict)\n",
    "    x_values.append(C)\n",
    "    train_scores_l1.append(train_score)\n",
    "    val_scores_l1.append(val_score)\n",
    "    \n",
    "    vis = LogReg.coef_ * X_val[0,:]\n",
    "    coef_l1_LR = LogReg.coef_.ravel()\n",
    "    plt.imshow(np.abs(vis.reshape(28, 28)), interpolation='nearest', cmap='binary', vmax=1, vmin=0)\n",
    "    save_name = 'l1/activation_val_'+str(C) +'.png'\n",
    "    plt.savefig(save_name)\n",
    "    \n",
    "#     print \"C: \", C, \" accuracy_score: train: \", train_score, \"val: \",val_score\n",
    "\n",
    "max_train_accuracy_l1 = max(train_scores_l1)\n",
    "max_train_accuracy_indices = [i for i, x in enumerate(train_scores_l1) if x == max_train_accuracy_l1]\n",
    "max_train_accuracy_index = max_train_accuracy_indices[-1]\n",
    "best_train_C_l1 = (max_train_accuracy_index + 1) / C_count\n",
    "\n",
    "max_val_accuracy_l1 = max(val_scores_l1)\n",
    "max_val_accuracy_indices = [i for i, x in enumerate(val_scores_l1) if x == max_val_accuracy_l1]\n",
    "max_val_accuracy_index = max_val_accuracy_indices[-1]\n",
    "best_val_C_l1 = (max_val_accuracy_index + 1) / C_count\n",
    "print \"accuracy_score: train: %f val: %f\" % (max_train_accuracy_l1, max_val_accuracy_l1)\n",
    "print \"best_C: train: %f val: %f\" % (best_train_C_l1, best_val_C_l1)"
   ]
  },
  {
   "cell_type": "code",
   "execution_count": 33,
   "metadata": {},
   "outputs": [
    {
     "data": {
      "image/png": "[encoded data removed]",
      "text/plain": [
       "<matplotlib.figure.Figure at 0x7fba88dade50>"
      ]
     },
     "metadata": {},
     "output_type": "display_data"
    }
   ],
   "source": [
    "# print val_scores_l2\n",
    "# print x_values\n",
    "plt.title(\"Validation Curve for LogisticRegression\")\n",
    "plt.xlabel(\"$\\lambda$\")\n",
    "plt.ylabel(\"Accuracy Scores\")\n",
    "plt.ylim(0.0,1.1)\n",
    "plt.xlim(0.0,1.01)\n",
    "plt.plot(x_values, train_scores_l1, label=\"Training_accuracies\", color=\"darkorange\")\n",
    "plt.plot(x_values, val_scores_l1, label=\"val_accuracies\", color=\"navy\")\n",
    "plt.savefig(\"l1_accuracies.png\")"
   ]
  },
  {
   "cell_type": "code",
   "execution_count": 11,
   "metadata": {},
   "outputs": [
    {
     "name": "stdout",
     "output_type": "stream",
     "text": [
      "0.947508896797\n"
     ]
    }
   ],
   "source": [
    "LogReg = linear_model.LogisticRegression(C=best_val_C_l1, penalty='l1')\n",
    "LogReg.fit(X_train, Y_train)\n",
    "Ytest_score = LogReg.predict(X_test)\n",
    "score = accuracy_score(Y_test, Ytest_score)\n",
    "print(score)"
   ]
  },
  {
   "cell_type": "code",
   "execution_count": 12,
   "metadata": {},
   "outputs": [
    {
     "data": {
      "image/png": "[encoded data removed]",
      "text/plain": [
       "<matplotlib.figure.Figure at 0x7fba8a0f0d90>"
      ]
     },
     "metadata": {},
     "output_type": "display_data"
    }
   ],
   "source": [
    "vis = LogReg.coef_ * X_test[0,:]\n",
    "\n",
    "coef_l1_LR = LogReg.coef_.ravel()\n",
    "plt.imshow(np.abs(vis.reshape(28, 28)), interpolation='nearest', cmap='binary', vmax=1, vmin=0)\n",
    "save_name = 'l1_activation_test.png'\n",
    "plt.savefig(save_name)"
   ]
  },
  {
   "cell_type": "code",
   "execution_count": 13,
   "metadata": {},
   "outputs": [
    {
     "name": "stdout",
     "output_type": "stream",
     "text": [
      "0.94128113879\n"
     ]
    }
   ],
   "source": [
    "LogReg = linear_model.LogisticRegression(C=best_val_C_l2, penalty='l2')\n",
    "LogReg.fit(X_train, Y_train)\n",
    "Ytest_score = LogReg.predict(X_test)\n",
    "score = accuracy_score(Y_test, Ytest_score)\n",
    "print(score)"
   ]
  },
  {
   "cell_type": "code",
   "execution_count": 14,
   "metadata": {},
   "outputs": [
    {
     "data": {
      "image/png": "[encoded data removed]",
      "text/plain": [
       "<matplotlib.figure.Figure at 0x7fba8a0c2ad0>"
      ]
     },
     "metadata": {},
     "output_type": "display_data"
    }
   ],
   "source": [
    "vis = LogReg.coef_ * X_test[0,:]\n",
    "\n",
    "coef_l2_LR = LogReg.coef_.ravel()\n",
    "plt.imshow(np.abs(vis.reshape(28, 28)), interpolation='nearest', cmap='binary', vmax=1, vmin=0)\n",
    "save_name = 'l2_activation_test.png'\n",
    "plt.savefig(save_name)"
   ]
  },
  {
   "cell_type": "code",
   "execution_count": 25,
   "metadata": {},
   "outputs": [
    {
     "data": {
      "text/plain": [
       "[<matplotlib.lines.Line2D at 0x7fba89025090>]"
      ]
     },
     "execution_count": 25,
     "metadata": {},
     "output_type": "execute_result"
    },
    {
     "data": {
      "image/png": "[encoded data removed]",
      "text/plain": [
       "<matplotlib.figure.Figure at 0x7fba88ac82d0>"
      ]
     },
     "metadata": {},
     "output_type": "display_data"
    }
   ],
   "source": [
    "x = range(1,100)\n",
    "y=range(1,100)\n",
    "plt.plot(x,y)"
   ]
  },
  {
   "cell_type": "code",
   "execution_count": null,
   "metadata": {},
   "outputs": [],
   "source": []
  }
 ],
 "metadata": {
  "kernelspec": {
   "display_name": "Python 2",
   "language": "python",
   "name": "python2"
  },
  "language_info": {
   "codemirror_mode": {
    "name": "ipython",
    "version": 2
   },
   "file_extension": ".py",
   "mimetype": "text/x-python",
   "name": "python",
   "nbconvert_exporter": "python",
   "pygments_lexer": "ipython2",
   "version": "2.7.12"
  }
 },
 "nbformat": 4,
 "nbformat_minor": 2
}
